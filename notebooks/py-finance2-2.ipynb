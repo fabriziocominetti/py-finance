{
 "cells": [
  {
   "cell_type": "markdown",
   "metadata": {},
   "source": [
    "## Python for Finance 2 - Download every stock"
   ]
  },
  {
   "cell_type": "markdown",
   "metadata": {},
   "source": [
    "#### Imports"
   ]
  },
  {
   "cell_type": "code",
   "execution_count": null,
   "metadata": {},
   "outputs": [],
   "source": [
    "# Provides ways to work with large multidimensional arrays\n",
    "import numpy as np \n",
    "# Allows for further data manipulation and analysis\n",
    "import pandas as pd\n",
    "from pandas_datareader import data as web # Reads stock data \n",
    "import matplotlib.pyplot as plt # Plotting\n",
    "import matplotlib.dates as mdates # Styling dates\n",
    "%matplotlib inline\n",
    "\n",
    "import datetime as dt # For defining dates\n",
    "import mplfinance as mpf # Matplotlib finance\n",
    "\n",
    "import time\n",
    "\n",
    "# Used to get data from a directory\n",
    "import os\n",
    "from os import listdir\n",
    "from os.path import isfile, join"
   ]
  },
  {
   "cell_type": "markdown",
   "metadata": {},
   "source": [
    "#### Default values"
   ]
  },
  {
   "cell_type": "code",
   "execution_count": null,
   "metadata": {},
   "outputs": [],
   "source": [
    "# Define path to files\n",
    "PATH = \"../data/stock-list/\"\n",
    "\n",
    "# Start date defaults\n",
    "S_YEAR = 2017\n",
    "S_MONTH = 1\n",
    "S_DAY = 3\n",
    "S_DATE_STR = f\"{S_YEAR}-{S_MONTH}-{S_DAY}\"\n",
    "S_DATE_DATETIME = dt.datetime(S_YEAR, S_MONTH, S_DAY)\n",
    "\n",
    "# End date defaults\n",
    "E_YEAR = 2021\n",
    "E_MONTH = 12\n",
    "E_DAY = 31\n",
    "E_DATE_STR = f\"{E_YEAR}-{E_MONTH}-{E_DAY}\"\n",
    "E_DATE_DATETIME = dt.datetime(E_YEAR, E_MONTH, E_DAY)"
   ]
  },
  {
   "cell_type": "markdown",
   "metadata": {},
   "source": [
    "#### Get stock file names in a list"
   ]
  },
  {
   "cell_type": "code",
   "execution_count": null,
   "metadata": {},
   "outputs": [],
   "source": [
    "# listdir returns all files in the directory and isfile will return true\n",
    "# if it is a file and then we store its name in our list named files\n",
    "files = [x for x in listdir(PATH) if isfile(join(PATH, x))]\n",
    "\n",
    "# Remove extension from file names\n",
    "# Splitext splits the file name into 2 parts being the name and extension\n",
    "# We say get all file names and then store just the name in our list named files\n",
    "tickers = [os.path.splitext(x)[0] for x in files]\n",
    "tickers"
   ]
  },
  {
   "cell_type": "markdown",
   "metadata": {},
   "source": [
    "#### Create a dataframe from our list"
   ]
  },
  {
   "cell_type": "code",
   "execution_count": null,
   "metadata": {},
   "outputs": [],
   "source": [
    "stock_df = pd.DataFrame(tickers, columns=['Ticker'])\n",
    "stock_df.head()"
   ]
  },
  {
   "cell_type": "markdown",
   "metadata": {},
   "source": [
    "#### Function that returns a dataframe from a CSV"
   ]
  },
  {
   "cell_type": "code",
   "execution_count": null,
   "metadata": {},
   "outputs": [],
   "source": [
    "# Reads a dataframe from the CSV file, changes index to date and returns it\n",
    "def get_df_from_csv(ticker):\n",
    "    \n",
    "    # Try to get the file and if it doesn't exist issue a warning\n",
    "    try:\n",
    "        df = pd.read_csv(PATH + ticker + '.csv')\n",
    "    except FileNotFoundError:\n",
    "        print(\"File Doesn't Exist\")\n",
    "    else:\n",
    "        return df"
   ]
  },
  {
   "cell_type": "markdown",
   "metadata": {},
   "source": [
    "#### Function that saves dataframe to CSV"
   ]
  },
  {
   "cell_type": "code",
   "execution_count": null,
   "metadata": {},
   "outputs": [],
   "source": [
    "def save_dataframe_to_csv(df, ticker):\n",
    "    df.to_csv(PATH + ticker + '.csv')"
   ]
  },
  {
   "cell_type": "markdown",
   "metadata": {},
   "source": [
    "#### Delete unnamed columns in CSV files"
   ]
  },
  {
   "cell_type": "code",
   "execution_count": null,
   "metadata": {},
   "outputs": [],
   "source": [
    "def delete_unnamed_cols(df):\n",
    "    df = df.loc[:, ~df.columns.str.contains('^Unnamed')]\n",
    "    return df"
   ]
  },
  {
   "cell_type": "markdown",
   "metadata": {},
   "source": [
    "#### Add daily return to dataframe"
   ]
  },
  {
   "cell_type": "code",
   "execution_count": null,
   "metadata": {},
   "outputs": [],
   "source": [
    "# We calculate a percentage rate of return for each day to compare investments.\n",
    "# Simple Rate of Return = (End Price - Beginning Price) / Beginning Price OR (EP / BP) - 1\n",
    "\n",
    "# Shift provides the value from the previous day\n",
    "# NaN is displayed because there was no previous day price for the 1st calculation\n",
    "def add_daily_return_to_df(df, ticker):\n",
    "    df['daily_return'] = (df['Adj Close'] / df['Adj Close'].shift(1)) - 1\n",
    "    # Save data to a CSV file\n",
    "    df.to_csv(PATH + ticker + '.csv')\n",
    "    return df "
   ]
  },
  {
   "cell_type": "markdown",
   "metadata": {},
   "source": [
    "#### Returns ROI over time"
   ]
  },
  {
   "cell_type": "code",
   "execution_count": null,
   "metadata": {},
   "outputs": [],
   "source": [
    "# Return on Investment is the return you received from your investment\n",
    "# This amount does not include your initial investment\n",
    "# If you invest 100 and have 200 after 5 years\n",
    "# ROI = End Value (200) - Initial Value (100) / Inital Value = 1\n",
    "# Your new total is Inital Investment + 1 * Inital Investment = 200\n",
    "\n",
    "def get_roi_defined_time(df):\n",
    "    # Set as a datetime\n",
    "    df['Date'] = pd.to_datetime(df['Date'])\n",
    "    start_val = df[df['Date'] == S_DATE_STR]['Adj Close'][0]\n",
    "    print(\"Initial Price :\", start_val)\n",
    "    \n",
    "    end_val = df[df['Date'] == E_DATE_STR]['Adj Close']\n",
    "    print(end_val.item())\n",
    "    print(\"Final Price :\", end_val.item())\n",
    "    \n",
    "    # Calculate return on investment\n",
    "    roi = (end_val - start_val) / start_val\n",
    "\n",
    "    # Return the total return between 2 dates\n",
    "    return roi"
   ]
  },
  {
   "cell_type": "markdown",
   "metadata": {},
   "source": [
    "#### Get coefficient of variation"
   ]
  },
  {
   "cell_type": "code",
   "execution_count": null,
   "metadata": {},
   "outputs": [],
   "source": [
    "# Receives the dataframe with the Adj Close data and returns the coefficient of variation\n",
    "def get_cov(stock_df):\n",
    "    mean = stock_df['Adj Close'].mean()\n",
    "    sd = stock_df['Adj Close'].std()\n",
    "    cov = sd / mean\n",
    "    return cov"
   ]
  },
  {
   "cell_type": "markdown",
   "metadata": {},
   "source": [
    "#### Test functions"
   ]
  },
  {
   "cell_type": "code",
   "execution_count": null,
   "metadata": {},
   "outputs": [],
   "source": [
    "# Create a backup for all original stock data\n",
    "\n",
    "# Get our 1st ticker\n",
    "tickers[0]\n",
    "\n",
    "# Get a dataframe for that ticker\n",
    "stock_a = get_df_from_csv(tickers[0])\n",
    "stock_a\n",
    "\n",
    "# Add daily return to this dataframe\n",
    "add_daily_return_to_df(stock_a, tickers[0])\n",
    "stock_a\n",
    "\n",
    "# Delete unnamed columns in dataframe\n",
    "stock_a = delete_unnamed_cols(stock_a)\n",
    "stock_a\n",
    "\n",
    "# Save cleaned dataframe to csv\n",
    "save_dataframe_to_csv(stock_a, tickers[0])"
   ]
  },
  {
   "cell_type": "markdown",
   "metadata": {},
   "source": [
    "#### Add daily returns & clean up all files"
   ]
  },
  {
   "cell_type": "code",
   "execution_count": null,
   "metadata": {},
   "outputs": [],
   "source": [
    "# Create a backup for all original stock data\n",
    "\n",
    "# Cycle through all tickers\n",
    "for ticker in tickers:\n",
    "    print(\"Working on :\", ticker)\n",
    "    \n",
    "    # Get a dataframe for that ticker\n",
    "    stock_df = get_df_from_csv(ticker)\n",
    "    \n",
    "    # Add daily return to this dataframe\n",
    "    add_daily_return_to_df(stock_df, ticker)\n",
    "    \n",
    "    # Delete unnamed columns in dataframe\n",
    "    stock_df = delete_unnamed_cols(stock_df)\n",
    "    \n",
    "    # Save cleaned dataframe to csv\n",
    "    save_dataframe_to_csv(stock_df, ticker)"
   ]
  },
  {
   "cell_type": "markdown",
   "metadata": {},
   "source": [
    "#### Get stock return over time period & coefficient of variation"
   ]
  },
  {
   "cell_type": "code",
   "execution_count": null,
   "metadata": {},
   "outputs": [],
   "source": [
    "stock_a\n",
    "\n",
    "# Get total return since 2017\n",
    "# Final Price 167.67 = (44.77 * 2.745) + 44.77\n",
    "get_roi_defined_time(stock_a)\n",
    "\n",
    "# Get coefficient of variation \n",
    "# This is higher than normal because I'm using many years instead of one\n",
    "# get_cov(stock_a)"
   ]
  }
 ],
 "metadata": {
  "interpreter": {
   "hash": "feac5ee11db6385b4c12b0947c117f22892e921fb5655ece65f725e09c2e67f4"
  },
  "kernelspec": {
   "display_name": "Python 3.9.7 ('finance')",
   "language": "python",
   "name": "python3"
  },
  "language_info": {
   "codemirror_mode": {
    "name": "ipython",
    "version": 3
   },
   "file_extension": ".py",
   "mimetype": "text/x-python",
   "name": "python",
   "nbconvert_exporter": "python",
   "pygments_lexer": "ipython3",
   "version": "3.9.7"
  },
  "orig_nbformat": 4
 },
 "nbformat": 4,
 "nbformat_minor": 2
}
