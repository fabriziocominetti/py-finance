{
 "cells": [
  {
   "cell_type": "markdown",
   "metadata": {},
   "source": [
    "## Python for Finance 6 - Best Stocks to Buy Now"
   ]
  },
  {
   "cell_type": "code",
   "execution_count": null,
   "metadata": {},
   "outputs": [],
   "source": [
    "# Provides ways to work with large multidimensional arrays\n",
    "import numpy as np \n",
    "# Allows for further data manipulation and analysis\n",
    "import pandas as pd\n",
    "from pandas_datareader import data as web # Reads stock data \n",
    "import matplotlib.pyplot as plt # Plotting\n",
    "import matplotlib.dates as mdates # Styling dates\n",
    "%matplotlib inline\n",
    "\n",
    "import datetime as dt # For defining dates\n",
    "import mplfinance as mpf # Matplotlib finance\n",
    "\n",
    "import time\n",
    "\n",
    "# Used to get data from a directory\n",
    "import os\n",
    "from os import listdir\n",
    "from os.path import isfile, join\n",
    "\n",
    "#Statsmodels is a great library we can use to run regressions.\n",
    "import statsmodels.api as sm\n",
    "# Seaborn extends the capabilities of Matplotlib\n",
    "import seaborn as sns\n",
    "# Used for calculating regressions\n",
    "from statsmodels.tsa.ar_model import AutoReg, ar_select_order"
   ]
  },
  {
   "cell_type": "markdown",
   "metadata": {},
   "source": [
    "#### Dates & Other Constants"
   ]
  },
  {
   "cell_type": "code",
   "execution_count": null,
   "metadata": {},
   "outputs": [],
   "source": [
    "# Define path to files\n",
    "PATH = \"../data/stock-list/\"\n",
    "\n",
    "# Start date defaults\n",
    "ST_YEAR = 2017\n",
    "ST_MONTH = 1\n",
    "ST_DAY = 1\n",
    "ST_DATE_STR = f\"{ST_YEAR}-{ST_MONTH}-{ST_DAY}\"\n",
    "ST_DATE_DATETIME = dt.datetime(ST_YEAR, ST_MONTH, ST_DAY)\n",
    "\n",
    "# End date defaults\n",
    "EN_YEAR = 2021\n",
    "EN_MONTH = 12\n",
    "EN_DAY = 31\n",
    "EN_DATE_STR = f\"{EN_YEAR}-{EN_MONTH}-{EN_DAY}\"\n",
    "EN_DATE_DATETIME = dt.datetime(EN_YEAR, EN_MONTH, EN_DAY)"
   ]
  },
  {
   "cell_type": "markdown",
   "metadata": {},
   "source": [
    "#### Hold Stocks not Downloaded"
   ]
  },
  {
   "cell_type": "code",
   "execution_count": null,
   "metadata": {},
   "outputs": [],
   "source": [
    "stocks_not_downloaded = []\n",
    "missing_stocks = []"
   ]
  },
  {
   "cell_type": "markdown",
   "metadata": {},
   "source": [
    "#### Get Stock File Names in a List"
   ]
  },
  {
   "cell_type": "code",
   "execution_count": null,
   "metadata": {},
   "outputs": [],
   "source": [
    "files = [x for x in listdir(PATH) if isfile(join(PATH, x))]\n",
    "tickers = [os.path.splitext(x)[0] for x in files]\n",
    "tickers\n",
    "\n",
    "tickers.sort()\n",
    "len(tickers)"
   ]
  },
  {
   "cell_type": "markdown",
   "metadata": {},
   "source": [
    "#### Save Stock Data to CSV"
   ]
  },
  {
   "cell_type": "code",
   "execution_count": null,
   "metadata": {},
   "outputs": [],
   "source": [
    "# Function that gets a dataframe by providing a ticker and starting date\n",
    "def save_to_csv_from_yahoo(ticker, syear, smonth, sday, eyear, emonth, eday):\n",
    "    # Defines the time periods to use\n",
    "    start = dt.datetime(syear, smonth, sday)\n",
    "    end = dt.datetime(eyear, emonth, eday)\n",
    "    \n",
    "    try:\n",
    "        print(\"Get Data for : \", ticker)\n",
    "        # Reads data into a dataframe\n",
    "        df = web.DataReader(ticker, 'yahoo', start, end)['Adj Close']\n",
    "    \n",
    "        # Wait 10 seconds\n",
    "        time.sleep(5)\n",
    "    \n",
    "        # Save data to a CSV file Windows\n",
    "        df.to_csv('../data/update/' + ticker + '.csv')\n",
    "        \n",
    "    except Exception as ex:\n",
    "        stocks_not_downloaded.append(ticker)\n",
    "        print(\"Couldn't Get Data for :\", ticker)"
   ]
  },
  {
   "cell_type": "code",
   "execution_count": null,
   "metadata": {},
   "outputs": [],
   "source": [
    "for x in range(0, 500):\n",
    "    save_to_csv_from_yahoo(tickers[x], 2022, 1, 1, 2022, 1, 20)\n",
    "print(\"Finished\")\n",
    "stocks_not_downloaded"
   ]
  },
  {
   "cell_type": "code",
   "execution_count": null,
   "metadata": {},
   "outputs": [],
   "source": [
    "for x in range(500, 1000):\n",
    "    save_to_csv_from_yahoo(tickers[x], 2022, 1, 1, 2022, 1, 20)\n",
    "print(\"Finished\")\n",
    "stocks_not_downloaded"
   ]
  },
  {
   "cell_type": "code",
   "execution_count": null,
   "metadata": {},
   "outputs": [],
   "source": [
    "for x in range(1000, 1500):\n",
    "    save_to_csv_from_yahoo(tickers[x], 2022, 1, 1, 2022, 1, 20)\n",
    "print(\"Finished\")\n",
    "stocks_not_downloaded"
   ]
  },
  {
   "cell_type": "code",
   "execution_count": null,
   "metadata": {},
   "outputs": [],
   "source": [
    "for x in range(1500, 2000):\n",
    "    save_to_csv_from_yahoo(tickers[x], 2022, 1, 1, 2022, 1, 20)\n",
    "print(\"Finished\")\n",
    "stocks_not_downloaded"
   ]
  },
  {
   "cell_type": "code",
   "execution_count": null,
   "metadata": {},
   "outputs": [],
   "source": [
    "for x in range(2000, 2888):\n",
    "    save_to_csv_from_yahoo(tickers[x], 2022, 1, 1, 2022, 1, 20)\n",
    "print(\"Finished\")\n",
    "stocks_not_downloaded"
   ]
  },
  {
   "cell_type": "code",
   "execution_count": null,
   "metadata": {},
   "outputs": [],
   "source": [
    "for x in missing_stocks:\n",
    "    save_to_csv_from_yahoo(x, 2022, 1, 1, 2022, 1, 20)\n",
    "print(\"Finished\")\n",
    "stocks_not_downloaded"
   ]
  },
  {
   "cell_type": "markdown",
   "metadata": {},
   "source": [
    "#### Function that Returns a Dataframe from a CSV"
   ]
  },
  {
   "cell_type": "code",
   "execution_count": null,
   "metadata": {},
   "outputs": [],
   "source": [
    "def get_df_from_csv(folder, ticker):\n",
    "    try:\n",
    "        df = pd.read_csv(folder + ticker + '.csv', index_col='Date', \n",
    "                         parse_dates=True)\n",
    "    except FileNotFoundError:\n",
    "        pass\n",
    "        print(\"File Doesn't Exist\")\n",
    "    else:\n",
    "        return df"
   ]
  },
  {
   "cell_type": "markdown",
   "metadata": {},
   "source": [
    "#### Merge New Data"
   ]
  },
  {
   "cell_type": "code",
   "execution_count": null,
   "metadata": {},
   "outputs": [],
   "source": [
    "def update_stock_data(ticker):\n",
    "    # For Windows \n",
    "    up_folder = '../data/update/'\n",
    "\n",
    "    # For Windows \n",
    "    stock_folder = PATH\n",
    "\n",
    "    update_df = get_df_from_csv(up_folder, ticker)\n",
    "    update_df\n",
    "\n",
    "    # Get original dataframe\n",
    "    orig_df = get_df_from_csv(stock_folder, ticker)\n",
    "\n",
    "    # Drop the unnamed column\n",
    "    orig_df.drop(orig_df.columns[orig_df.columns.str.contains('unnamed',case = False)],\n",
    "          axis = 1, inplace = True)\n",
    "\n",
    "    # Drop the daily_return column\n",
    "    orig_df = orig_df.drop('daily_return', 1)\n",
    "\n",
    "    join_df = pd.concat([orig_df, update_df])\n",
    "    return join_df"
   ]
  },
  {
   "cell_type": "markdown",
   "metadata": {},
   "source": [
    "#### Save Dataframe to CSV"
   ]
  },
  {
   "cell_type": "code",
   "execution_count": null,
   "metadata": {},
   "outputs": [],
   "source": [
    "def save_dataframe_to_csv(df, folder, ticker):\n",
    "    df.to_csv(folder + ticker + '.csv')"
   ]
  },
  {
   "cell_type": "markdown",
   "metadata": {},
   "source": [
    "#### Update Files with New Data"
   ]
  },
  {
   "cell_type": "code",
   "execution_count": null,
   "metadata": {},
   "outputs": [],
   "source": [
    "def update_stocks(stock_folder):\n",
    "    \n",
    "    for x in tickers:\n",
    "        try:\n",
    "            print(\"Working on :\", x)\n",
    "            new_df = update_stock_data(x)\n",
    "            save_dataframe_to_csv(new_df, stock_folder, x)\n",
    "        except Exception as ex:\n",
    "            print(ex)"
   ]
  },
  {
   "cell_type": "code",
   "execution_count": null,
   "metadata": {},
   "outputs": [],
   "source": [
    "# For Windows\n",
    "update_stocks(PATH)"
   ]
  },
  {
   "cell_type": "markdown",
   "metadata": {},
   "source": [
    "#### Add Daily Return to Dataframe"
   ]
  },
  {
   "cell_type": "code",
   "execution_count": null,
   "metadata": {},
   "outputs": [],
   "source": [
    "# We calculate a percentage rate of return for each day to compare investments.\n",
    "# Simple Rate of Return = (End Price - Beginning Price) / Beginning Price OR (EP / BP) - 1\n",
    "\n",
    "# Shift provides the value from the previous day\n",
    "# NaN is displayed because there was no previous day price for the 1st calculation\n",
    "def add_daily_return_to_df(df, ticker):\n",
    "    df['daily_return'] = (df['Adj Close'] / df['Adj Close'].shift(1)) - 1\n",
    "    # Save data to a CSV file\n",
    "    # For Windows\n",
    "    df.to_csv(PATH + ticker + '.csv')\n",
    "    \n",
    "    return df  "
   ]
  },
  {
   "cell_type": "markdown",
   "metadata": {},
   "source": [
    "#### Update Daily Returns"
   ]
  },
  {
   "cell_type": "code",
   "execution_count": null,
   "metadata": {},
   "outputs": [],
   "source": [
    "for x in tickers:\n",
    "    try:\n",
    "        print(\"Working on :\", x)\n",
    "        new_df = get_df_from_csv(PATH, x)\n",
    "        new_df = add_daily_return_to_df(new_df, x)\n",
    "        save_dataframe_to_csv(new_df, PATH, x)\n",
    "    except Exception as ex:\n",
    "        print(ex)"
   ]
  },
  {
   "cell_type": "markdown",
   "metadata": {},
   "source": [
    "#### Regression Time Series Example with AutoReg"
   ]
  },
  {
   "cell_type": "code",
   "execution_count": null,
   "metadata": {},
   "outputs": [],
   "source": [
    "def calc_projected_roi(ticker):\n",
    "    a_df = get_df_from_csv(PATH, ticker)\n",
    "\n",
    "    a_df = a_df.asfreq('d') # Change frequency to day\n",
    "    a_df.index # Check frequency\n",
    "    a_df = a_df.fillna(method='ffill') # Fill missing values\n",
    "\n",
    "    # Delete unnamed column\n",
    "    a_df.drop(a_df.columns[a_df.columns.str.contains('unnamed',case = False)],\n",
    "          axis = 1, inplace = True)\n",
    "\n",
    "    # Delete daily return column\n",
    "    a_df = a_df.drop(['daily_return'], axis=1)\n",
    "    \n",
    "    # Figure out optimum lags which will be 1 or 2 for this data set\n",
    "    lags = ar_select_order(a_df, maxlag=30)\n",
    "\n",
    "    # Create our model using whole data set\n",
    "    model = AutoReg(a_df['Adj Close'], lags.ar_lags)\n",
    "    model_fit = model.fit()\n",
    "\n",
    "    # Define training and testing area\n",
    "    print(\"Length :\",len(a_df)) # 1712 observations\n",
    "    train_df = a_df.iloc[50:1369] # 80% minus 1st 50\n",
    "    test_df = a_df.iloc[1369:] # Last 20%\n",
    "\n",
    "    # Define training model for 500 days (Play with Number & Test)\n",
    "    # and White's covariance estimator\n",
    "    train_model = AutoReg(a_df['Adj Close'], 500).fit(cov_type=\"HC0\")\n",
    "\n",
    "    # Define start and end for prediction \n",
    "    start = len(train_df)\n",
    "    end = len(train_df) + len(test_df) - 1\n",
    "\n",
    "    prediction = train_model.predict(start=start, end=end, dynamic=True)\n",
    "\n",
    "    # Predict 160 days into the future\n",
    "    forecast = train_model.predict(start=end, end=end+60, dynamic=True)\n",
    "\n",
    "    # Get starting price of prediction\n",
    "    s_price = forecast.head(1).iloc[0]\n",
    "\n",
    "    # Get the last price of prediction\n",
    "    e_price = forecast.iloc[-1]\n",
    "\n",
    "    # Get return over prediction\n",
    "    return (e_price - s_price) / s_price"
   ]
  },
  {
   "cell_type": "code",
   "execution_count": null,
   "metadata": {},
   "outputs": [],
   "source": [
    "def get_proj_rois():\n",
    "    # Will hold all tickers & stock rois\n",
    "    ticker = []\n",
    "    roi = []\n",
    "    \n",
    "    for x in tickers:\n",
    "        print(\"Working on :\", x)\n",
    "        try:\n",
    "            the_roi = calc_projected_roi(x)\n",
    "        except Exception as ex:\n",
    "            print(\"Stock Data Corrupted\")\n",
    "        else:\n",
    "            ticker.append(x)\n",
    "            print(\"ROI :\", the_roi)\n",
    "            roi.append(the_roi)\n",
    "        \n",
    "    return pd.DataFrame({'Ticker':ticker, 'ROI':roi})"
   ]
  },
  {
   "cell_type": "code",
   "execution_count": null,
   "metadata": {},
   "outputs": [],
   "source": [
    "proj_roi_df = get_proj_rois()\n",
    "proj_roi_df"
   ]
  },
  {
   "cell_type": "code",
   "execution_count": null,
   "metadata": {},
   "outputs": [],
   "source": [
    "proj_roi_df.sort_values(by=['ROI'], ascending=False)[0:20]"
   ]
  }
 ],
 "metadata": {
  "interpreter": {
   "hash": "feac5ee11db6385b4c12b0947c117f22892e921fb5655ece65f725e09c2e67f4"
  },
  "kernelspec": {
   "display_name": "Python 3.9.7 ('finance')",
   "language": "python",
   "name": "python3"
  },
  "language_info": {
   "codemirror_mode": {
    "name": "ipython",
    "version": 3
   },
   "file_extension": ".py",
   "mimetype": "text/x-python",
   "name": "python",
   "nbconvert_exporter": "python",
   "pygments_lexer": "ipython3",
   "version": "3.9.7"
  },
  "orig_nbformat": 4
 },
 "nbformat": 4,
 "nbformat_minor": 2
}
