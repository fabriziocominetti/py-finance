{
 "cells": [
  {
   "cell_type": "markdown",
   "metadata": {},
   "source": [
    "## Python for Finance 2 - Download every stock"
   ]
  },
  {
   "cell_type": "markdown",
   "metadata": {},
   "source": [
    "#### Imports"
   ]
  },
  {
   "cell_type": "code",
   "execution_count": 1,
   "metadata": {},
   "outputs": [],
   "source": [
    "# Provides ways to work with large multidimensional arrays\n",
    "import numpy as np \n",
    "# Allows for further data manipulation and analysis\n",
    "import pandas as pd\n",
    "from pandas_datareader import data as web # Reads stock data \n",
    "import matplotlib.pyplot as plt # Plotting\n",
    "import matplotlib.dates as mdates # Styling dates\n",
    "%matplotlib inline\n",
    "\n",
    "import datetime as dt # For defining dates\n",
    "import mplfinance as mpf # Matplotlib finance\n",
    "\n",
    "import time"
   ]
  },
  {
   "cell_type": "markdown",
   "metadata": {},
   "source": [
    "#### Holds stocks not downloaded"
   ]
  },
  {
   "cell_type": "code",
   "execution_count": 2,
   "metadata": {},
   "outputs": [],
   "source": [
    "stocks_not_downloaded = []\n",
    "missing_stocks = []"
   ]
  },
  {
   "cell_type": "markdown",
   "metadata": {},
   "source": [
    "#### Saves stock data to CSV"
   ]
  },
  {
   "cell_type": "code",
   "execution_count": 3,
   "metadata": {},
   "outputs": [],
   "source": [
    "# Function that gets a dataframe by providing a ticker and starting date\n",
    "def save_to_csv_from_yahoo(folder, ticker, syear, smonth, sday, eyear, emonth, eday):\n",
    "    # Defines the time periods to use\n",
    "    start = dt.datetime(syear, smonth, sday)\n",
    "    end = dt.datetime(eyear, emonth, eday)\n",
    "    \n",
    "    try:\n",
    "        print(\"Get Data for : \", ticker)\n",
    "        # Reads data into a dataframe\n",
    "        df = web.DataReader(ticker, 'yahoo', start, end)['Adj Close']\n",
    "    \n",
    "        # Wait 10 seconds\n",
    "        time.sleep(10)\n",
    "    \n",
    "        # Save data to a CSV file\n",
    "        df.to_csv(folder + ticker + '.csv')\n",
    "    except Exception as ex:\n",
    "        stocks_not_downloaded.append(ticker)\n",
    "        print(\"Couldn't Get Data for :\", ticker)"
   ]
  },
  {
   "cell_type": "markdown",
   "metadata": {},
   "source": [
    "#### Returns a stock dataframe from a CSV"
   ]
  },
  {
   "cell_type": "code",
   "execution_count": 4,
   "metadata": {},
   "outputs": [],
   "source": [
    "# Reads a dataframe from the CSV file, changes index to date and returns it\n",
    "def get_stock_df_from_csv(folder, ticker):\n",
    "    \n",
    "    # Try to get the file and if it doesn't exist issue a warning\n",
    "    try:\n",
    "        df = pd.read_csv(folder + ticker + '.csv')\n",
    "    except FileNotFoundError:\n",
    "        print(\"File Doesn't Exist\")\n",
    "    else:\n",
    "        return df"
   ]
  },
  {
   "cell_type": "markdown",
   "metadata": {},
   "source": [
    "#### Returns a named columns data from a CSV"
   ]
  },
  {
   "cell_type": "code",
   "execution_count": 5,
   "metadata": {},
   "outputs": [],
   "source": [
    "def get_column_from_csv(file, col_name):\n",
    "    # Try to get the file and if it doesn't exist issue a warning\n",
    "    try:\n",
    "        df = pd.read_csv(file)\n",
    "    except FileNotFoundError:\n",
    "        print(\"File Doesn't Exist\")\n",
    "    else:\n",
    "        return df[col_name]"
   ]
  },
  {
   "cell_type": "markdown",
   "metadata": {},
   "source": [
    "#### Test receiving stock tickers"
   ]
  },
  {
   "cell_type": "code",
   "execution_count": 6,
   "metadata": {},
   "outputs": [
    {
     "data": {
      "text/plain": [
       "0          A\n",
       "1         AA\n",
       "2        AAL\n",
       "3       AAME\n",
       "4        AAN\n",
       "        ... \n",
       "3476    ZUMZ\n",
       "3477     ZUO\n",
       "3478    ZYNE\n",
       "3479    ZYXI\n",
       "3480    ZNGA\n",
       "Name: Ticker, Length: 3481, dtype: object"
      ]
     },
     "execution_count": 6,
     "metadata": {},
     "output_type": "execute_result"
    }
   ],
   "source": [
    "tickers = get_column_from_csv('../data/Wilshire-5000-Stocks.csv', 'Ticker')\n",
    "tickers\n",
    "\n",
    "# for x in tickers:\n",
    "#     print(x, end=\", \")"
   ]
  },
  {
   "cell_type": "markdown",
   "metadata": {},
   "source": [
    "#### Get 5 years of data for the 1st 20 stocks"
   ]
  },
  {
   "cell_type": "code",
   "execution_count": 7,
   "metadata": {},
   "outputs": [],
   "source": [
    "# Folder used to store stock data\n",
    "folder = \"../data/stock-list/\""
   ]
  },
  {
   "cell_type": "code",
   "execution_count": 8,
   "metadata": {},
   "outputs": [
    {
     "data": {
      "text/plain": [
       "'\\nfor x in range(20):\\n    save_to_csv_from_yahoo(folder, tickers[x], 2017, 1, 1, 2021, 12, 31)\\nprint(\"Finished\")\\n'"
      ]
     },
     "execution_count": 8,
     "metadata": {},
     "output_type": "execute_result"
    }
   ],
   "source": [
    "for x in range(20):\n",
    "    save_to_csv_from_yahoo(folder, tickers[x], 2017, 1, 1, 2021, 12, 31)\n",
    "print(\"Finished\")"
   ]
  },
  {
   "cell_type": "markdown",
   "metadata": {},
   "source": [
    "#### Download stocks in blocks"
   ]
  },
  {
   "cell_type": "code",
   "execution_count": 9,
   "metadata": {},
   "outputs": [
    {
     "data": {
      "text/plain": [
       "'\\nfor x in range(21, 500):\\n    save_to_csv_from_yahoo(folder, tickers[x], 2017, 1, 1, 2021, 12, 31)\\nprint(\"Finished\")\\nstocks_not_downloaded\\n'"
      ]
     },
     "execution_count": 9,
     "metadata": {},
     "output_type": "execute_result"
    }
   ],
   "source": [
    "for x in range(20, 500):\n",
    "    save_to_csv_from_yahoo(folder, tickers[x], 2017, 1, 1, 2021, 12, 31)\n",
    "print(\"Finished\")\n",
    "stocks_not_downloaded"
   ]
  },
  {
   "cell_type": "code",
   "execution_count": 10,
   "metadata": {},
   "outputs": [
    {
     "data": {
      "text/plain": [
       "'\\nfor x in range(501, 1000):\\n    save_to_csv_from_yahoo(folder, tickers[x], 2017, 1, 1, 2021, 12, 31)\\nprint(\"Finished\")\\nstocks_not_downloaded\\n'"
      ]
     },
     "execution_count": 10,
     "metadata": {},
     "output_type": "execute_result"
    }
   ],
   "source": [
    "for x in range(500, 1000):\n",
    "    save_to_csv_from_yahoo(folder, tickers[x], 2017, 1, 1, 2021, 12, 31)\n",
    "print(\"Finished\")\n",
    "stocks_not_downloaded"
   ]
  },
  {
   "cell_type": "code",
   "execution_count": 11,
   "metadata": {},
   "outputs": [
    {
     "data": {
      "text/plain": [
       "'\\nfor x in range(1001, 1500):\\n    save_to_csv_from_yahoo(folder, tickers[x], 2017, 1, 1, 2021, 12, 31)\\nprint(\"Finished\")\\nstocks_not_downloaded\\n'"
      ]
     },
     "execution_count": 11,
     "metadata": {},
     "output_type": "execute_result"
    }
   ],
   "source": [
    "for x in range(1001, 1500):\n",
    "    save_to_csv_from_yahoo(folder, tickers[x], 2017, 1, 1, 2021, 12, 31)\n",
    "print(\"Finished\")\n",
    "stocks_not_downloaded"
   ]
  },
  {
   "cell_type": "code",
   "execution_count": 12,
   "metadata": {},
   "outputs": [
    {
     "data": {
      "text/plain": [
       "'\\nfor x in range(1501, 2000):\\n    save_to_csv_from_yahoo(folder, tickers[x], 2017, 1, 1, 2021, 12, 31)\\nprint(\"Finished\")\\nstocks_not_downloaded\\n'"
      ]
     },
     "execution_count": 12,
     "metadata": {},
     "output_type": "execute_result"
    }
   ],
   "source": [
    "for x in range(1500, 2000):\n",
    "    save_to_csv_from_yahoo(folder, tickers[x], 2017, 1, 1, 2021, 12, 31)\n",
    "print(\"Finished\")\n",
    "stocks_not_downloaded"
   ]
  },
  {
   "cell_type": "code",
   "execution_count": 13,
   "metadata": {},
   "outputs": [
    {
     "data": {
      "text/plain": [
       "'\\nfor x in range(2001, 2500):\\n    save_to_csv_from_yahoo(folder, tickers[x], 2017, 1, 1, 2021, 12, 31)\\nprint(\"Finished\")\\nstocks_not_downloaded\\n'"
      ]
     },
     "execution_count": 13,
     "metadata": {},
     "output_type": "execute_result"
    }
   ],
   "source": [
    "for x in range(2000, 2500):\n",
    "    save_to_csv_from_yahoo(folder, tickers[x], 2017, 1, 1, 2021, 12, 31)\n",
    "print(\"Finished\")\n",
    "stocks_not_downloaded"
   ]
  },
  {
   "cell_type": "code",
   "execution_count": 14,
   "metadata": {},
   "outputs": [
    {
     "data": {
      "text/plain": [
       "'\\nfor x in range(2501, 3000):\\n    save_to_csv_from_yahoo(folder, tickers[x], 2017, 1, 1, 2021, 12, 31)\\nprint(\"Finished\")\\nstocks_not_downloaded\\n'"
      ]
     },
     "execution_count": 14,
     "metadata": {},
     "output_type": "execute_result"
    }
   ],
   "source": [
    "for x in range(2500, 3000):\n",
    "    save_to_csv_from_yahoo(folder, tickers[x], 2017, 1, 1, 2021, 12, 31)\n",
    "print(\"Finished\")\n",
    "stocks_not_downloaded"
   ]
  },
  {
   "cell_type": "code",
   "execution_count": 15,
   "metadata": {},
   "outputs": [
    {
     "data": {
      "text/plain": [
       "'\\nfor x in range(3000, 3480):\\n    save_to_csv_from_yahoo(folder, tickers[x], 2017, 1, 1, 2021, 12, 31)\\nprint(\"Finished\")\\nstocks_not_downloaded\\n'"
      ]
     },
     "execution_count": 15,
     "metadata": {},
     "output_type": "execute_result"
    }
   ],
   "source": [
    "for x in range(3000, 3480):\n",
    "    save_to_csv_from_yahoo(folder, tickers[x], 2017, 1, 1, 2021, 12, 31)\n",
    "print(\"Finished\")\n",
    "stocks_not_downloaded"
   ]
  },
  {
   "cell_type": "code",
   "execution_count": 16,
   "metadata": {},
   "outputs": [
    {
     "name": "stdout",
     "output_type": "stream",
     "text": [
      "Finished\n"
     ]
    },
    {
     "data": {
      "text/plain": [
       "[]"
      ]
     },
     "execution_count": 16,
     "metadata": {},
     "output_type": "execute_result"
    }
   ],
   "source": [
    "for x in missing_stocks:\n",
    "    save_to_csv_from_yahoo(folder, x, 2017, 1, 1, 2021, 12, 31)\n",
    "print(\"Finished\")\n",
    "stocks_not_downloaded"
   ]
  },
  {
   "cell_type": "code",
   "execution_count": 17,
   "metadata": {},
   "outputs": [
    {
     "data": {
      "text/plain": [
       "[]"
      ]
     },
     "execution_count": 17,
     "metadata": {},
     "output_type": "execute_result"
    }
   ],
   "source": [
    "stocks_not_downloaded"
   ]
  }
 ],
 "metadata": {
  "interpreter": {
   "hash": "feac5ee11db6385b4c12b0947c117f22892e921fb5655ece65f725e09c2e67f4"
  },
  "kernelspec": {
   "display_name": "Python 3.9.7 ('finance')",
   "language": "python",
   "name": "python3"
  },
  "language_info": {
   "codemirror_mode": {
    "name": "ipython",
    "version": 3
   },
   "file_extension": ".py",
   "mimetype": "text/x-python",
   "name": "python",
   "nbconvert_exporter": "python",
   "pygments_lexer": "ipython3",
   "version": "3.9.7"
  },
  "orig_nbformat": 4
 },
 "nbformat": 4,
 "nbformat_minor": 2
}
