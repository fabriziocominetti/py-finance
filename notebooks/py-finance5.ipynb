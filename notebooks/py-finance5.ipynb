{
 "cells": [
  {
   "cell_type": "markdown",
   "metadata": {},
   "source": [
    "## Python for Finance 5 - Stock Market Prediction"
   ]
  },
  {
   "cell_type": "code",
   "execution_count": null,
   "metadata": {},
   "outputs": [],
   "source": [
    "# Provides ways to work with large multidimensional arrays\n",
    "import numpy as np \n",
    "# Allows for further data manipulation and analysis\n",
    "import pandas as pd\n",
    "from pandas_datareader import data as web # Reads stock data \n",
    "import matplotlib.pyplot as plt # Plotting\n",
    "import matplotlib.dates as mdates # Styling dates\n",
    "%matplotlib inline\n",
    "\n",
    "import datetime as dt # For defining dates\n",
    "import mplfinance as mpf # Matplotlib finance\n",
    "\n",
    "import time\n",
    "\n",
    "# Used to get data from a directory\n",
    "import os\n",
    "from os import listdir\n",
    "from os.path import isfile, join"
   ]
  },
  {
   "cell_type": "markdown",
   "metadata": {},
   "source": [
    "New Imports"
   ]
  },
  {
   "cell_type": "code",
   "execution_count": null,
   "metadata": {},
   "outputs": [],
   "source": [
    "#Statsmodels is a great library we can use to run regressions.\n",
    "import statsmodels.api as sm\n",
    "# Seaborn extends the capabilities of Matplotlib\n",
    "import seaborn as sns"
   ]
  },
  {
   "cell_type": "markdown",
   "metadata": {},
   "source": [
    "#### Dates & Other Constants"
   ]
  },
  {
   "cell_type": "code",
   "execution_count": null,
   "metadata": {},
   "outputs": [],
   "source": [
    "# Define path to files\n",
    "PATH = \"../data/stock-list/\"\n",
    "\n",
    "# Start date defaults\n",
    "ST_YEAR = 2017\n",
    "ST_MONTH = 1\n",
    "ST_DAY = 1\n",
    "ST_DATE_STR = f\"{ST_YEAR}-{ST_MONTH}-{ST_DAY}\"\n",
    "ST_DATE_DATETIME = dt.datetime(ST_YEAR, ST_MONTH, ST_DAY)\n",
    "\n",
    "# End date defaults\n",
    "EN_YEAR = 2021\n",
    "EN_MONTH = 12\n",
    "EN_DAY = 31\n",
    "EN_DATE_STR = f\"{EN_YEAR}-{EN_MONTH}-{EN_DAY}\"\n",
    "EN_DATE_DATETIME = dt.datetime(EN_YEAR, EN_MONTH, EN_DAY)"
   ]
  },
  {
   "cell_type": "markdown",
   "metadata": {},
   "source": [
    "#### Function that Returns a Dataframe from a CSV"
   ]
  },
  {
   "cell_type": "code",
   "execution_count": null,
   "metadata": {},
   "outputs": [],
   "source": [
    "def get_df_from_csv(ticker):\n",
    "    try:\n",
    "        df = pd.read_csv(PATH + ticker + '.csv', index_col='Date', \n",
    "                         parse_dates=True)\n",
    "    except FileNotFoundError:\n",
    "        pass\n",
    "        # print(\"File Doesn't Exist\")\n",
    "    else:\n",
    "        return df"
   ]
  },
  {
   "cell_type": "markdown",
   "metadata": {},
   "source": [
    "#### Regression Analysis"
   ]
  },
  {
   "cell_type": "markdown",
   "metadata": {},
   "source": [
    "Used to examine the relationship between 2 or more variables. We use it to see what factors matter & which do not. The dependent variable is what you want to better understand, while the independent variable effects the dependent.\n",
    "\n",
    "When analyzing stocks the dependent variable is the price, while the independent may be the season, economic events, earnings, etc."
   ]
  },
  {
   "cell_type": "code",
   "execution_count": null,
   "metadata": {},
   "outputs": [],
   "source": [
    "# This is a dataset that evaluates beauty & teacher evaluations\n",
    "beauty = sm.datasets.get_rdataset(\"TeachingRatings\", \"AER\")\n",
    "\n",
    "# We are plotting a scatter plot with a regression line that\n",
    "# estimates the mean of the results.\n",
    "plt.figure(figsize=(8,4))\n",
    "sns.regplot(x=\"eval\", y=\"beauty\", data=beauty.data)\n",
    "\n",
    "# This data is rather inconclusive"
   ]
  },
  {
   "cell_type": "markdown",
   "metadata": {},
   "source": [
    "#### Tips Regression Line"
   ]
  },
  {
   "cell_type": "code",
   "execution_count": null,
   "metadata": {},
   "outputs": [],
   "source": [
    "# This time will we analyze whether the total bill effects\n",
    "# the tip people leave at restaurants\n",
    "# Load tip dataset\n",
    "tips = sns.load_dataset(\"tips\")\n",
    "# Get column data in dataset\n",
    "tips.columns\n",
    "\n",
    "y = tips['total_bill']\n",
    "x1 = tips['tip']\n",
    "\n",
    "# Define the intercept to the y line\n",
    "x = sm.add_constant(x1)\n",
    "\n",
    "# OLS Ordinary Least Squares : Estimates the data so a line can \n",
    "# be drawn through data points\n",
    "results = sm.OLS(y,x).fit()\n",
    "results.summary()\n",
    "\n",
    "plt.figure(figsize=(8,4))\n",
    "sns.regplot(x=\"total_bill\", y=\"tip\", data=tips)\n",
    "\n",
    "# Here it is clear that are guess that bill amounts effect tips\n",
    "# seems to be true"
   ]
  },
  {
   "cell_type": "markdown",
   "metadata": {},
   "source": [
    "#### Forecasting"
   ]
  },
  {
   "cell_type": "markdown",
   "metadata": {},
   "source": [
    "You are going to choose different models depending upon the data you have. We will train our model on the first group of data (Training Data : 1st 80%). Then we test the model using the last part of our data (Test Date : Last 20%). All along we are modeling using real known true results. We should forecast into the future the same length of time we test for.\n",
    "\n",
    "These forecasts are based off of the trends provided by the data you supply. Will it definitely happen? No, but it is more likely to continue on its current trend depending on how dramatic the slope is for the prejection. If nothing dramatic occurs! But, as we know, dramatic things happen such as wars and pandemics."
   ]
  },
  {
   "cell_type": "markdown",
   "metadata": {},
   "source": [
    "#### ARIMA Model (Auto Regression)"
   ]
  },
  {
   "cell_type": "markdown",
   "metadata": {},
   "source": [
    "AutoRegressive Integrated Moving Average (ARIMA) is the basis for many other models. It focuses on trying to fit the data as well as possible by examining differences between values instead of the values themselves.\n",
    "\n",
    "ARIMA works very well when data values have a clear trend and seasonality. We can only make predictions based on the data we have. Any outside effects not in the data can't be used to make predictions. For example we could make predictions on stock prices, but since we don't know when a recession may occur that event can't be modeled.\n",
    "\n",
    "There is a seasonal (SARIMA) and a non-seasonal ARIMA. There is also SARIMAX which focuses on exogenous, or external factors. It differs from ARIMA in that it has a set of parameters (P, D, and Q) that focus on seasonality.\n",
    "\n",
    "AR (Autoregressions) refers to a model that regresses based on prior values."
   ]
  },
  {
   "cell_type": "markdown",
   "metadata": {},
   "source": [
    "#### Regression Time Series Example with AutoReg"
   ]
  },
  {
   "cell_type": "code",
   "execution_count": null,
   "metadata": {},
   "outputs": [],
   "source": [
    "from statsmodels.tsa.ar_model import AutoReg, ar_select_order\n",
    "\n",
    "a_df = get_df_from_csv(\"GOOG\") \n",
    "\n",
    "a_df = a_df.asfreq('d') # Change frequency to day\n",
    "a_df.index # Check frequency\n",
    "a_df = a_df.fillna(method='ffill') # Fill missing values\n",
    "\n",
    "# Delete unnamed column\n",
    "a_df.drop(a_df.columns[a_df.columns.str.contains('unnamed',case = False)],\n",
    "          axis = 1, inplace = True)\n",
    "\n",
    "# Delete daily return column\n",
    "a_df = a_df.drop(['daily_return'], axis=1)\n",
    "\n",
    "a_df\n",
    "\n",
    "# Set style for seaborn plot\n",
    "sns.set_style('darkgrid')\n",
    "# Add automatic datetime converters\n",
    "pd.plotting.register_matplotlib_converters()\n",
    "# Default figure size\n",
    "sns.mpl.rc('figure',figsize=(19, 13))\n",
    "\n",
    "# Set fig and ax\n",
    "fig, ax = plt.subplots()\n",
    "# ax = a_df.plot(ax=ax)\n",
    "\n",
    "# Figure out optimum lags which will be 1 or 2 for this data set\n",
    "lags = ar_select_order(a_df, maxlag=30)\n",
    "\n",
    "# Create our model using whole data set\n",
    "model = AutoReg(a_df['Adj Close'], lags.ar_lags)\n",
    "model_fit = model.fit()\n",
    "\n",
    "# Define training and testing area\n",
    "len(a_df) # 1166 observations\n",
    "train_df = a_df.iloc[50:933] # 80% minus 1st 50\n",
    "test_df = a_df.iloc[933:] # Last 20%\n",
    "\n",
    "# Define training model for 500 days (Play with Number & Test)\n",
    "# and White's covariance estimator\n",
    "train_model = AutoReg(a_df['Adj Close'], 500).fit(cov_type=\"HC0\")\n",
    "\n",
    "# Define start and end for prediction \n",
    "start = len(train_df)\n",
    "end = len(train_df) + len(test_df) - 1\n",
    "\n",
    "prediction = train_model.predict(start=start, end=end, dynamic=True)\n",
    "\n",
    "# Plot testing data with prediction\n",
    "ax = test_df.plot(ax=ax) # Orange\n",
    "ax = prediction.plot(ax=ax) # Green\n",
    "\n",
    "# Predict 100 days into the future\n",
    "forecast = train_model.predict(start=end, end=end+100, dynamic=True)\n",
    "ax = forecast.plot(ax=ax) # Green"
   ]
  }
 ],
 "metadata": {
  "interpreter": {
   "hash": "feac5ee11db6385b4c12b0947c117f22892e921fb5655ece65f725e09c2e67f4"
  },
  "kernelspec": {
   "display_name": "Python 3.9.7 ('finance')",
   "language": "python",
   "name": "python3"
  },
  "language_info": {
   "codemirror_mode": {
    "name": "ipython",
    "version": 3
   },
   "file_extension": ".py",
   "mimetype": "text/x-python",
   "name": "python",
   "nbconvert_exporter": "python",
   "pygments_lexer": "ipython3",
   "version": "3.9.7"
  },
  "orig_nbformat": 4
 },
 "nbformat": 4,
 "nbformat_minor": 2
}
