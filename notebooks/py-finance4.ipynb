{
 "cells": [
  {
   "cell_type": "markdown",
   "metadata": {},
   "source": [
    "## Python for Finance 4 - Low Risk Investments"
   ]
  },
  {
   "cell_type": "code",
   "execution_count": null,
   "metadata": {},
   "outputs": [],
   "source": [
    "# Provides ways to work with large multidimensional arrays\n",
    "import numpy as np \n",
    "# Allows for further data manipulation and analysis\n",
    "import pandas as pd\n",
    "from pandas_datareader import data as web # Reads stock data \n",
    "import matplotlib.pyplot as plt # Plotting\n",
    "import matplotlib.dates as mdates # Styling dates\n",
    "%matplotlib inline\n",
    "\n",
    "import datetime as dt # For defining dates\n",
    "import mplfinance as mpf # Matplotlib finance\n",
    "\n",
    "import time\n",
    "\n",
    "# Used to get data from a directory\n",
    "import os\n",
    "from os import listdir\n",
    "from os.path import isfile, join"
   ]
  },
  {
   "cell_type": "markdown",
   "metadata": {},
   "source": [
    "#### Dates & Other Constants"
   ]
  },
  {
   "cell_type": "code",
   "execution_count": null,
   "metadata": {},
   "outputs": [],
   "source": [
    "# Define path to files\n",
    "PATH = \"../data/stock-list/\"\n",
    "\n",
    "# Start date defaults\n",
    "ST_YEAR = 2017\n",
    "ST_MONTH = 1\n",
    "ST_DAY = 1\n",
    "ST_DATE_STR = f\"{ST_YEAR}-{ST_MONTH}-{ST_DAY}\"\n",
    "ST_DATE_DATETIME = dt.datetime(ST_YEAR, ST_MONTH, ST_DAY)\n",
    "\n",
    "# End date defaults\n",
    "EN_YEAR = 2021\n",
    "EN_MONTH = 12\n",
    "EN_DAY = 31\n",
    "EN_DATE_STR = f\"{EN_YEAR}-{EN_MONTH}-{EN_DAY}\"\n",
    "EN_DATE_DATETIME = dt.datetime(EN_YEAR, EN_MONTH, EN_DAY)"
   ]
  },
  {
   "cell_type": "markdown",
   "metadata": {},
   "source": [
    "#### Get Stock File Names in a List"
   ]
  },
  {
   "cell_type": "code",
   "execution_count": null,
   "metadata": {},
   "outputs": [],
   "source": [
    "files = [x for x in listdir(PATH) if isfile(join(PATH, x))]\n",
    "tickers = [os.path.splitext(x)[0] for x in files]\n",
    "tickers"
   ]
  },
  {
   "cell_type": "markdown",
   "metadata": {},
   "source": [
    "#### Function that Returns a Dataframe from a CSV"
   ]
  },
  {
   "cell_type": "code",
   "execution_count": null,
   "metadata": {},
   "outputs": [],
   "source": [
    "def get_df_from_csv(ticker):\n",
    "    try:\n",
    "        df = pd.read_csv(PATH + ticker + '.csv')\n",
    "    except FileNotFoundError:\n",
    "        pass\n",
    "        # print(\"File Doesn't Exist\")\n",
    "    else:\n",
    "        return df"
   ]
  },
  {
   "cell_type": "markdown",
   "metadata": {},
   "source": [
    "#### Function that Saves Dataframe to CSV"
   ]
  },
  {
   "cell_type": "code",
   "execution_count": null,
   "metadata": {},
   "outputs": [],
   "source": [
    "def save_dataframe_to_csv(df, ticker):\n",
    "    df.to_csv(PATH + ticker + '.csv')"
   ]
  },
  {
   "cell_type": "markdown",
   "metadata": {},
   "source": [
    "#### Return 1st Valid Date in Dataframe"
   ]
  },
  {
   "cell_type": "code",
   "execution_count": null,
   "metadata": {},
   "outputs": [],
   "source": [
    "def get_valid_dates(df, sdate, edate):  \n",
    "    try:\n",
    "        mask = (df['Date'] > sdate) & (df['Date'] <= edate) \n",
    "        sm_df = df.loc[mask]\n",
    "        sm_df = sm_df.set_index(['Date'])\n",
    "        sm_date = sm_df.index.min()\n",
    "        last_date = sm_df.index.max()\n",
    "        date_leading = '-'.join(('0' if len(x)<2 else '')+x for x in sm_date.split('-'))\n",
    "        date_ending = '-'.join(('0' if len(x)<2 else '')+x for x in last_date.split('-'))\n",
    "    except Exception:\n",
    "        print(\"Date Corrupted\")\n",
    "    else:\n",
    "        return date_leading, date_ending"
   ]
  },
  {
   "cell_type": "markdown",
   "metadata": {},
   "source": [
    "#### Returns Return on Investment over Time"
   ]
  },
  {
   "cell_type": "code",
   "execution_count": null,
   "metadata": {},
   "outputs": [],
   "source": [
    "def roi_between_dates(df, sdate, edate):\n",
    "    try: \n",
    "        start_val = df.loc[sdate,'Adj Close'] \n",
    "        end_val = df.loc[edate,'Adj Close']\n",
    "        roi = ((end_val - start_val) / start_val)\n",
    "    except Exception:\n",
    "        print(\"Data Corrupted\")\n",
    "    else:\n",
    "        return roi"
   ]
  },
  {
   "cell_type": "markdown",
   "metadata": {},
   "source": [
    "#### Get Mean Between Dates"
   ]
  },
  {
   "cell_type": "code",
   "execution_count": null,
   "metadata": {},
   "outputs": [],
   "source": [
    "def get_mean_between_dates(df, sdate, edate):\n",
    "    mask = (df['Date'] > sdate) & (df['Date'] <= edate)\n",
    "    return df.loc[mask][\"Adj Close\"].mean()"
   ]
  },
  {
   "cell_type": "markdown",
   "metadata": {},
   "source": [
    "#### Get Standard Deviation Between Dates"
   ]
  },
  {
   "cell_type": "code",
   "execution_count": null,
   "metadata": {},
   "outputs": [],
   "source": [
    "def get_sd_between_dates(df, sdate, edate):\n",
    "    mask = (df['Date'] > sdate) & (df['Date'] <= edate)\n",
    "    return df.loc[mask][\"Adj Close\"].std()"
   ]
  },
  {
   "cell_type": "markdown",
   "metadata": {},
   "source": [
    "#### Get Coefficient of Variation Between Dates"
   ]
  },
  {
   "cell_type": "code",
   "execution_count": null,
   "metadata": {},
   "outputs": [],
   "source": [
    "def get_cov_between_dates(df, sdate, edate):\n",
    "    mean = get_mean_between_dates(df, sdate, edate)\n",
    "    sd = get_sd_between_dates(df, sdate, edate)\n",
    "    return sd / mean"
   ]
  },
  {
   "cell_type": "markdown",
   "metadata": {},
   "source": [
    "#### Merge Multiple Stocks in One Dataframe by Column Name"
   ]
  },
  {
   "cell_type": "code",
   "execution_count": null,
   "metadata": {},
   "outputs": [],
   "source": [
    "def merge_df_by_column_name(col_name, sdate, edate, *tickers):\n",
    "    # Will hold data for all dataframes with the same column name\n",
    "    mult_df = pd.DataFrame()\n",
    "    \n",
    "    for x in tickers:\n",
    "        df = get_df_from_csv(x)\n",
    "        df['Date'] = pd.to_datetime(df['Date'])\n",
    "        # Use a mask to grab data between defined dates\n",
    "        mask = (df['Date'] >= sdate) & (df['Date'] <= edate)\n",
    "        mult_df[x] = df.loc[mask][col_name]\n",
    "        \n",
    "    return mult_df"
   ]
  },
  {
   "cell_type": "markdown",
   "metadata": {},
   "source": [
    "---\n",
    "NEW"
   ]
  },
  {
   "cell_type": "markdown",
   "metadata": {},
   "source": [
    "\n",
    "#### 11 Stock Market Sectors\n",
    "\n",
    "**Technology**: Manufacturing of electronics, software, or related to information technology\n",
    "\n",
    "**Health Care**: Biotech, hospitals, medical devices, drugs\n",
    "\n",
    "**Financials**: Banks, investment funds, and insurance\n",
    "\n",
    "**Real Estate**: Residential, industrial, and retail real estate\n",
    "\n",
    "**Energy**: Production and supply of energy\n",
    "\n",
    "**Materials**: Mining, refining, chemical, and forestry\n",
    "\n",
    "**Consumer Discretionary**: Retailers, apparel, media, durables and services\n",
    "\n",
    "**Industrials**: Construction, machinery, fabrication, manufacturing, defense, and aerospace\n",
    "\n",
    "**Utilities**: Direct providers of electric, gas, and water\n",
    "\n",
    "**Consumer Staples**: Food, beverage as well as products consumers deem essential\n",
    "\n",
    "**Telecommunication**: Cable, internet providers, wireless, and satellite"
   ]
  },
  {
   "cell_type": "markdown",
   "metadata": {},
   "source": [
    "#### Get Sector Stocks"
   ]
  },
  {
   "cell_type": "code",
   "execution_count": null,
   "metadata": {},
   "outputs": [],
   "source": [
    "# For Windows\n",
    "sec_df = pd.read_csv('../data/stock_sectors.csv')\n",
    "\n",
    "# Get Industrials DF\n",
    "indus_df = sec_df.loc[sec_df['Sector'] == \"Industrials\"]\n",
    "health_df = sec_df.loc[sec_df['Sector'] == \"Health Care\"]\n",
    "it_df = sec_df.loc[sec_df['Sector'] == \"Information Technology\"]\n",
    "comm_df = sec_df.loc[sec_df['Sector'] == \"Communication Services\"]\n",
    "staple_df = sec_df.loc[sec_df['Sector'] == \"Consumer Staples\"]\n",
    "discretion_df = sec_df.loc[sec_df['Sector'] == \"Consumer Discretionary\"]\n",
    "utility_df = sec_df.loc[sec_df['Sector'] == \"Utilities\"]\n",
    "financial_df = sec_df.loc[sec_df['Sector'] == \"Financials\"]\n",
    "material_df = sec_df.loc[sec_df['Sector'] == \"Materials\"]\n",
    "restate_df = sec_df.loc[sec_df['Sector'] == \"Real Estate\"]\n",
    "energy_df = sec_df.loc[sec_df['Sector'] == \"Energy\"]"
   ]
  },
  {
   "cell_type": "code",
   "execution_count": null,
   "metadata": {},
   "outputs": [],
   "source": [
    "sec_df"
   ]
  },
  {
   "cell_type": "markdown",
   "metadata": {},
   "source": [
    "#### Returns a DF with ROIs for all Stocks"
   ]
  },
  {
   "cell_type": "code",
   "execution_count": null,
   "metadata": {},
   "outputs": [],
   "source": [
    "def get_rois_for_stocks(stock_df):\n",
    "    # Will hold all tickers & stock rois\n",
    "    tickers = []\n",
    "    rois = []\n",
    "\n",
    "    # iterrows provides the index and column for each row in the DF\n",
    "    for index, row in stock_df.iterrows():\n",
    "        df = get_df_from_csv(row['Symbol'])\n",
    "    \n",
    "        # If we can't find the ticker delete it from the dataframe\n",
    "        if df is None:\n",
    "            pass\n",
    "            # print(row['Symbol'], \" is not available\")\n",
    "        else:\n",
    "            tickers.append(row['Symbol'])\n",
    "            sdate, edate = get_valid_dates(df, '2018-01-01', '2020-12-31')\n",
    "            df = df.set_index(['Date'])\n",
    "            roi = roi_between_dates(df, sdate, edate)\n",
    "            rois.append(roi)\n",
    "    return pd.DataFrame({'Ticker':tickers, 'ROI':rois})"
   ]
  },
  {
   "cell_type": "code",
   "execution_count": null,
   "metadata": {},
   "outputs": [],
   "source": [
    "industrial = get_rois_for_stocks(indus_df)\n",
    "health_care = get_rois_for_stocks(health_df)\n",
    "it = get_rois_for_stocks(it_df)\n",
    "commun = get_rois_for_stocks(comm_df)\n",
    "staple = get_rois_for_stocks(staple_df)\n",
    "discretion = get_rois_for_stocks(discretion_df)\n",
    "utility = get_rois_for_stocks(utility_df)\n",
    "finance = get_rois_for_stocks(financial_df)\n",
    "material = get_rois_for_stocks(material_df)\n",
    "restate = get_rois_for_stocks(restate_df)\n",
    "energy = get_rois_for_stocks(energy_df)"
   ]
  },
  {
   "cell_type": "code",
   "execution_count": null,
   "metadata": {},
   "outputs": [],
   "source": [
    "industrial"
   ]
  },
  {
   "cell_type": "markdown",
   "metadata": {},
   "source": [
    "#### Top Industrials"
   ]
  },
  {
   "cell_type": "code",
   "execution_count": null,
   "metadata": {},
   "outputs": [],
   "source": [
    "industrial.sort_values(by=['ROI'], ascending=False).head(5)"
   ]
  },
  {
   "cell_type": "markdown",
   "metadata": {},
   "source": [
    "#### Top Healthcare"
   ]
  },
  {
   "cell_type": "code",
   "execution_count": null,
   "metadata": {},
   "outputs": [],
   "source": [
    "health_care.sort_values(by=['ROI'], ascending=False).head(5)"
   ]
  },
  {
   "cell_type": "markdown",
   "metadata": {},
   "source": [
    "#### Top Information Tech"
   ]
  },
  {
   "cell_type": "code",
   "execution_count": null,
   "metadata": {},
   "outputs": [],
   "source": [
    "it.sort_values(by=['ROI'], ascending=False).head(5)"
   ]
  },
  {
   "cell_type": "markdown",
   "metadata": {},
   "source": [
    "#### Top Communications"
   ]
  },
  {
   "cell_type": "code",
   "execution_count": null,
   "metadata": {},
   "outputs": [],
   "source": [
    "commun.sort_values(by=['ROI'], ascending=False).head(20)"
   ]
  },
  {
   "cell_type": "markdown",
   "metadata": {},
   "source": [
    "#### Top Staples"
   ]
  },
  {
   "cell_type": "code",
   "execution_count": null,
   "metadata": {},
   "outputs": [],
   "source": [
    "staple.sort_values(by=['ROI'], ascending=False).head(5)"
   ]
  },
  {
   "cell_type": "markdown",
   "metadata": {},
   "source": [
    "#### Top Discretionary"
   ]
  },
  {
   "cell_type": "code",
   "execution_count": null,
   "metadata": {},
   "outputs": [],
   "source": [
    "discretion.sort_values(by=['ROI'], ascending=False).head(5)"
   ]
  },
  {
   "cell_type": "markdown",
   "metadata": {},
   "source": [
    "#### Top Utilities"
   ]
  },
  {
   "cell_type": "code",
   "execution_count": null,
   "metadata": {},
   "outputs": [],
   "source": [
    "utility.sort_values(by=['ROI'], ascending=False).head(5)"
   ]
  },
  {
   "cell_type": "markdown",
   "metadata": {},
   "source": [
    "#### Top Finance"
   ]
  },
  {
   "cell_type": "code",
   "execution_count": null,
   "metadata": {},
   "outputs": [],
   "source": [
    "finance.sort_values(by=['ROI'], ascending=False).head(5)"
   ]
  },
  {
   "cell_type": "markdown",
   "metadata": {},
   "source": [
    "#### Top Materials"
   ]
  },
  {
   "cell_type": "code",
   "execution_count": null,
   "metadata": {},
   "outputs": [],
   "source": [
    "material.sort_values(by=['ROI'], ascending=False).head(5)"
   ]
  },
  {
   "cell_type": "markdown",
   "metadata": {},
   "source": [
    "#### Top Real Estate"
   ]
  },
  {
   "cell_type": "code",
   "execution_count": null,
   "metadata": {},
   "outputs": [],
   "source": [
    "restate.sort_values(by=['ROI'], ascending=False).head(5)"
   ]
  },
  {
   "cell_type": "markdown",
   "metadata": {},
   "source": [
    "#### Top Energy"
   ]
  },
  {
   "cell_type": "code",
   "execution_count": null,
   "metadata": {},
   "outputs": [],
   "source": [
    "energy.sort_values(by=['ROI'], ascending=False).head(5)"
   ]
  },
  {
   "cell_type": "markdown",
   "metadata": {},
   "source": [
    "#### Portfolio List"
   ]
  },
  {
   "cell_type": "code",
   "execution_count": null,
   "metadata": {},
   "outputs": [],
   "source": [
    "port_list = [\"GNRC\", \"DXCM\", \"AMD\", \"NFLX\", \"COST\", \"TGT\", \"AES\", \"MSCI\", \n",
    "             \"NEM\", \"SBAC\", \"HES\"]"
   ]
  },
  {
   "cell_type": "markdown",
   "metadata": {},
   "source": [
    "#### Check for Correlation"
   ]
  },
  {
   "cell_type": "code",
   "execution_count": null,
   "metadata": {},
   "outputs": [],
   "source": [
    "mult_df = merge_df_by_column_name('daily_return',  '2018-01-01', \n",
    "                                  '2020-12-31', *port_list)\n",
    "mult_df\n",
    "\n",
    "# Generate a Correlation Matrix\n",
    "mult_df.corr()"
   ]
  },
  {
   "cell_type": "code",
   "execution_count": null,
   "metadata": {},
   "outputs": [],
   "source": [
    "# Get the number of samples\n",
    "days = len(mult_df.index)\n",
    "days"
   ]
  },
  {
   "cell_type": "code",
   "execution_count": null,
   "metadata": {},
   "outputs": [],
   "source": [
    "def get_stock_price_on_date(ticker, date):\n",
    "    df = get_df_from_csv(ticker)\n",
    "    df = df.set_index(['Date'])\n",
    "    return df.loc[date,'Adj Close']"
   ]
  },
  {
   "cell_type": "code",
   "execution_count": null,
   "metadata": {},
   "outputs": [],
   "source": [
    "# 01-04-2021 is the 1st date in 2021\n",
    "print(\"GNRC $\", get_stock_price_on_date('GNRC', '2021-01-04')) # 2 449.12\n",
    "print(\"DXCM $\", get_stock_price_on_date('DXCM', '2021-01-04')) # 1 357.74\n",
    "print(\"AMD $\", get_stock_price_on_date('AMD', '2021-01-04')) # 4 369.2\n",
    "print(\"NFLX $\", get_stock_price_on_date('NFLX', '2021-01-04')) # 1 522.86\n",
    "print(\"COST $\", get_stock_price_on_date('COST', '2021-01-04')) # 1 377.88\n",
    "print(\"TGT $\", get_stock_price_on_date('TGT', '2021-01-04')) # 3 527.46\n",
    "print(\"AES $\", get_stock_price_on_date('AES', '2021-01-04')) # 18 410.76\n",
    "print(\"MSCI $\", get_stock_price_on_date('MSCI', '2021-01-04')) # 1 435.40\n",
    "print(\"NEM $\", get_stock_price_on_date('NEM', '2021-01-04')) # 7 434.49\n",
    "print(\"SBAC $\", get_stock_price_on_date('SBAC', '2021-01-04')) # 2 548.84\n",
    "print(\"HES $\", get_stock_price_on_date('HES', '2021-01-04')) # 9 472.23\n",
    "\n",
    "# Total Investment\n",
    "tot_inv = 449.12 + 357.74 + 369.2 + 522.86 + 377.88 + 527.46 + 410.76 + \\\n",
    "435.40 + 434.49 + 548.84 + 472.23\n",
    "tot_inv"
   ]
  },
  {
   "cell_type": "markdown",
   "metadata": {},
   "source": [
    "#### Returns Portfolio Weight"
   ]
  },
  {
   "cell_type": "code",
   "execution_count": null,
   "metadata": {},
   "outputs": [],
   "source": [
    "def get_port_weight(price, total):\n",
    "    return price / total"
   ]
  },
  {
   "cell_type": "code",
   "execution_count": null,
   "metadata": {},
   "outputs": [],
   "source": [
    "gnrc_w = get_port_weight(449.12, 4905.98)\n",
    "dxcm_w = get_port_weight(357.74, 4905.98)\n",
    "amd_w = get_port_weight(369.2, 4905.98)\n",
    "nflx_w = get_port_weight(522.86, 4905.98)\n",
    "cost_w = get_port_weight(377.88, 4905.98)\n",
    "tgt_w = get_port_weight(527.46, 4905.98)\n",
    "aes_w = get_port_weight(410.76, 4905.98)\n",
    "msci_w = get_port_weight(435.40, 4905.98)\n",
    "nem_w = get_port_weight(434.49, 4905.98)\n",
    "sbac_w = get_port_weight(548.84, 4905.98)\n",
    "hes_w = get_port_weight(472.23, 4905.98)\n",
    "\n",
    "wts = np.array([gnrc_w, dxcm_w, amd_w, nflx_w, cost_w, tgt_w, aes_w, msci_w, \\\n",
    "                nem_w, sbac_w, hes_w])\n",
    "wts\n",
    "\n",
    "port_var = np.dot(wts.T, np.dot(mult_df.cov() * 756, wts))\n",
    "print(\"Portfolio Covariance :\", port_var)\n",
    "print(\"GNRC Var :\", mult_df[\"GNRC\"].var() * 756)\n",
    "print(\"NFLX Var :\", mult_df[\"NFLX\"].var() * 756)"
   ]
  },
  {
   "cell_type": "markdown",
   "metadata": {},
   "source": [
    "#### Different Types of Risk"
   ]
  },
  {
   "cell_type": "markdown",
   "metadata": {},
   "source": [
    "There is risk that you can limit through diversifaction (Idiosyncratic) and risk that you can't (Systematic). Systematic risk is caused by unforeseen conditions such as wars, recessions, natural disasters, dramatic changes in consumer actions, etc.\n",
    "\n",
    "Data tells us that if we make a portfolio made up of approximately 25 stocks that aren't correlated that we can dramatically lower idiosyncratic risk. That is one reason why people invest in indexes. You can further lower risk by investing in other countries, bonds and cash."
   ]
  },
  {
   "cell_type": "markdown",
   "metadata": {},
   "source": [
    "#### Diversifiable Risk"
   ]
  },
  {
   "cell_type": "code",
   "execution_count": null,
   "metadata": {},
   "outputs": [],
   "source": [
    "# Diversifiable Risk = Portfolio Variance - All Weighted Variances\n",
    "def calc_diversifiable_risk(df, tickers, weights):\n",
    "    # Gets number of days\n",
    "    days = len(mult_df.index)\n",
    "    # Calculate covariance of portfolio\n",
    "    port_covar = np.dot(weights.T, np.dot(df.cov() * days, weights)) \n",
    "    \n",
    "    i = 0\n",
    "    while i < len(tickers):\n",
    "        wt_sq = weights[i] ** 2\n",
    "        stk_var = mult_df[tickers[i]].var() * days\n",
    "        wt_var = wt_sq * stk_var\n",
    "        port_covar = port_covar - wt_var\n",
    "        i += 1\n",
    "    return port_covar"
   ]
  },
  {
   "cell_type": "code",
   "execution_count": null,
   "metadata": {},
   "outputs": [],
   "source": [
    "div_risk = calc_diversifiable_risk(mult_df, port_list, wts)\n",
    "div_risk"
   ]
  },
  {
   "cell_type": "markdown",
   "metadata": {},
   "source": [
    "#### Find Risk that Can't be Diversified"
   ]
  },
  {
   "cell_type": "code",
   "execution_count": null,
   "metadata": {},
   "outputs": [],
   "source": [
    "print(\"Systematic Risk :\", (port_var - div_risk))"
   ]
  }
 ],
 "metadata": {
  "interpreter": {
   "hash": "feac5ee11db6385b4c12b0947c117f22892e921fb5655ece65f725e09c2e67f4"
  },
  "kernelspec": {
   "display_name": "Python 3.9.7 ('finance')",
   "language": "python",
   "name": "python3"
  },
  "language_info": {
   "codemirror_mode": {
    "name": "ipython",
    "version": 3
   },
   "file_extension": ".py",
   "mimetype": "text/x-python",
   "name": "python",
   "nbconvert_exporter": "python",
   "pygments_lexer": "ipython3",
   "version": "3.9.7"
  },
  "orig_nbformat": 4
 },
 "nbformat": 4,
 "nbformat_minor": 2
}
