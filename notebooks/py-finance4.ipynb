{
 "cells": [
  {
   "cell_type": "code",
   "execution_count": 1,
   "metadata": {},
   "outputs": [],
   "source": [
    "# Provides ways to work with large multidimensional arrays\n",
    "import numpy as np \n",
    "# Allows for further data manipulation and analysis\n",
    "import pandas as pd\n",
    "from pandas_datareader import data as web # Reads stock data \n",
    "import matplotlib.pyplot as plt # Plotting\n",
    "import matplotlib.dates as mdates # Styling dates\n",
    "%matplotlib inline\n",
    "\n",
    "import datetime as dt # For defining dates\n",
    "import mplfinance as mpf # Matplotlib finance\n",
    "\n",
    "import time\n",
    "\n",
    "# Used to get data from a directory\n",
    "import os\n",
    "from os import listdir\n",
    "from os.path import isfile, join"
   ]
  },
  {
   "cell_type": "markdown",
   "metadata": {},
   "source": [
    "#### Dates & Other Constants"
   ]
  },
  {
   "cell_type": "code",
   "execution_count": 2,
   "metadata": {},
   "outputs": [],
   "source": [
    "# Define path to files\n",
    "PATH = \"../data/stock-list/\"\n",
    "\n",
    "# Start date defaults\n",
    "ST_YEAR = 2017\n",
    "ST_MONTH = 1\n",
    "ST_DAY = 3\n",
    "ST_DATE_STR = f\"{ST_YEAR}-{ST_MONTH}-{ST_DAY}\"\n",
    "ST_DATE_DATETIME = dt.datetime(ST_YEAR, ST_MONTH, ST_DAY)\n",
    "\n",
    "# End date defaults\n",
    "EN_YEAR = 2021\n",
    "EN_MONTH = 8\n",
    "EN_DAY = 19\n",
    "EN_DATE_STR = f\"{EN_YEAR}-{EN_MONTH}-{EN_DAY}\"\n",
    "EN_DATE_DATETIME = dt.datetime(EN_YEAR, EN_MONTH, EN_DAY)"
   ]
  },
  {
   "cell_type": "markdown",
   "metadata": {},
   "source": [
    "#### Get Stock File Names in a List"
   ]
  },
  {
   "cell_type": "code",
   "execution_count": 3,
   "metadata": {},
   "outputs": [
    {
     "data": {
      "text/plain": [
       "['A',\n",
       " 'AA',\n",
       " 'AAL',\n",
       " 'AAME',\n",
       " 'AAOI',\n",
       " 'AAON',\n",
       " 'AAP',\n",
       " 'AAPL',\n",
       " 'AAT',\n",
       " 'AAWW',\n",
       " 'ABBV',\n",
       " 'ABC',\n",
       " 'ABCB',\n",
       " 'ABEO',\n",
       " 'ABG',\n",
       " 'ABIO',\n",
       " 'ABM',\n",
       " 'ABMD',\n",
       " 'ABR',\n",
       " 'ABT',\n",
       " 'ABTX',\n",
       " 'AC',\n",
       " 'ACA',\n",
       " 'ACAD',\n",
       " 'ACBI',\n",
       " 'ACC',\n",
       " 'ACCO',\n",
       " 'ACER',\n",
       " 'ACGL',\n",
       " 'ACHC',\n",
       " 'ACHV',\n",
       " 'ACIW',\n",
       " 'ACLS',\n",
       " 'ACM',\n",
       " 'ACMR',\n",
       " 'ACN',\n",
       " 'ACNB',\n",
       " 'ACOR',\n",
       " 'ACRE',\n",
       " 'ACRS',\n",
       " 'ACRX',\n",
       " 'ACTG',\n",
       " 'ACU',\n",
       " 'ACY',\n",
       " 'ADBE',\n",
       " 'ADC',\n",
       " 'ADES',\n",
       " 'ADI',\n",
       " 'ADM',\n",
       " 'ADMA',\n",
       " 'ADMP',\n",
       " 'ADNT',\n",
       " 'ADP',\n",
       " 'ADS',\n",
       " 'ADSK',\n",
       " 'ADT',\n",
       " 'ADTN',\n",
       " 'ADUS',\n",
       " 'ADVM',\n",
       " 'ADXS',\n",
       " 'AE',\n",
       " 'AEE',\n",
       " 'AEHR',\n",
       " 'AEIS',\n",
       " 'AEL',\n",
       " 'AEMD',\n",
       " 'AEO',\n",
       " 'AEP',\n",
       " 'AERI',\n",
       " 'AES',\n",
       " 'AEY',\n",
       " 'AFG',\n",
       " 'AFI',\n",
       " 'AFL',\n",
       " 'AGCO',\n",
       " 'AGE',\n",
       " 'AGEN',\n",
       " 'AGFS',\n",
       " 'AGIO',\n",
       " 'AGLE',\n",
       " 'AGM',\n",
       " 'AGNC',\n",
       " 'AGO',\n",
       " 'AGR',\n",
       " 'AGRX',\n",
       " 'AGS',\n",
       " 'AGTC',\n",
       " 'AGX',\n",
       " 'AGYS',\n",
       " 'AHH',\n",
       " 'AHT',\n",
       " 'AIG',\n",
       " 'AIMC',\n",
       " 'AIN',\n",
       " 'AINC',\n",
       " 'AIR',\n",
       " 'AIRG',\n",
       " 'AIRI',\n",
       " 'AIRT',\n",
       " 'AIT',\n",
       " 'AIV',\n",
       " 'AIZ',\n",
       " 'AJG',\n",
       " 'AJRD',\n",
       " 'AJX',\n",
       " 'AKAM',\n",
       " 'AKBA',\n",
       " 'AKR',\n",
       " 'AKTS',\n",
       " 'AL',\n",
       " 'ALB',\n",
       " 'ALBO',\n",
       " 'ALCO',\n",
       " 'ALDX',\n",
       " 'ALE',\n",
       " 'ALEC',\n",
       " 'ALEX',\n",
       " 'ALG',\n",
       " 'ALGN',\n",
       " 'ALGT',\n",
       " 'ALIM',\n",
       " 'ALJJ',\n",
       " 'ALK',\n",
       " 'ALKS',\n",
       " 'ALL',\n",
       " 'ALLE',\n",
       " 'ALLK',\n",
       " 'ALLO',\n",
       " 'ALLY',\n",
       " 'ALNA',\n",
       " 'ALNY',\n",
       " 'ALOT',\n",
       " 'ALPN',\n",
       " 'ALRM',\n",
       " 'ALSN',\n",
       " 'ALT',\n",
       " 'ALTR',\n",
       " 'ALV',\n",
       " 'ALX',\n",
       " 'AM',\n",
       " 'AMAL',\n",
       " 'AMAT',\n",
       " 'AMBC',\n",
       " 'AMC',\n",
       " 'AMCX',\n",
       " 'AMD',\n",
       " 'AME',\n",
       " 'AMED',\n",
       " 'AMG',\n",
       " 'AMGN',\n",
       " 'AMH',\n",
       " 'AMKR',\n",
       " 'AMN',\n",
       " 'AMNB',\n",
       " 'AMOT',\n",
       " 'AMP',\n",
       " 'AMPE',\n",
       " 'AMPH',\n",
       " 'AMRC',\n",
       " 'AMRK',\n",
       " 'AMRS',\n",
       " 'AMRX',\n",
       " 'AMS',\n",
       " 'AMSC',\n",
       " 'AMSF',\n",
       " 'AMSWA',\n",
       " 'AMT',\n",
       " 'AMTD',\n",
       " 'AMTX',\n",
       " 'AMWD',\n",
       " 'AMZN',\n",
       " 'AN',\n",
       " 'ANAB',\n",
       " 'ANAT',\n",
       " 'ANDE',\n",
       " 'ANET',\n",
       " 'ANF',\n",
       " 'ANGI',\n",
       " 'ANGO',\n",
       " 'ANIK',\n",
       " 'ANIP',\n",
       " 'ANIX',\n",
       " 'ANSS',\n",
       " 'ANTM',\n",
       " 'AON',\n",
       " 'AOS',\n",
       " 'AOSL',\n",
       " 'AP',\n",
       " 'APA',\n",
       " 'APAM',\n",
       " 'APD',\n",
       " 'APDN',\n",
       " 'APEI',\n",
       " 'APEN',\n",
       " 'APH',\n",
       " 'APLE',\n",
       " 'APLS',\n",
       " 'APOG',\n",
       " 'APPF',\n",
       " 'APPN',\n",
       " 'APPS',\n",
       " 'APRN',\n",
       " 'APT',\n",
       " 'APTS',\n",
       " 'APTV',\n",
       " 'APVO',\n",
       " 'APYX',\n",
       " 'AQB',\n",
       " 'AQMS',\n",
       " 'AQUA',\n",
       " 'AR',\n",
       " 'ARAV',\n",
       " 'ARAY',\n",
       " 'ARC',\n",
       " 'ARCB',\n",
       " 'ARCH',\n",
       " 'ARDX',\n",
       " 'ARE',\n",
       " 'ARES',\n",
       " 'ARGO',\n",
       " 'ARI',\n",
       " 'ARKR',\n",
       " 'ARL',\n",
       " 'ARLO',\n",
       " 'ARMK',\n",
       " 'ARNA',\n",
       " 'AROC',\n",
       " 'AROW',\n",
       " 'ARR',\n",
       " 'ARTNA',\n",
       " 'ARTW',\n",
       " 'ARVN',\n",
       " 'ARW',\n",
       " 'ARWR',\n",
       " 'ASB',\n",
       " 'ASGN',\n",
       " 'ASH',\n",
       " 'ASIX',\n",
       " 'ASMB',\n",
       " 'ASPN',\n",
       " 'ASPS',\n",
       " 'ASRT',\n",
       " 'ASRV',\n",
       " 'ASTC',\n",
       " 'ASTE',\n",
       " 'ASUR',\n",
       " 'ASYS',\n",
       " 'ATEC',\n",
       " 'ATEN',\n",
       " 'ATGE',\n",
       " 'ATHX',\n",
       " 'ATI',\n",
       " 'ATKR',\n",
       " 'ATLC',\n",
       " 'ATLO',\n",
       " 'ATNI',\n",
       " 'ATNM',\n",
       " 'ATNX',\n",
       " 'ATO',\n",
       " 'ATOS',\n",
       " 'ATR',\n",
       " 'ATRA',\n",
       " 'ATRC',\n",
       " 'ATRI',\n",
       " 'ATRO',\n",
       " 'ATRS',\n",
       " 'ATSG',\n",
       " 'ATUS',\n",
       " 'ATVI',\n",
       " 'AUBN',\n",
       " 'AUMN',\n",
       " 'AUTO',\n",
       " 'AVA',\n",
       " 'AVAV',\n",
       " 'AVB',\n",
       " 'AVD',\n",
       " 'AVEO',\n",
       " 'AVGO',\n",
       " 'AVGR',\n",
       " 'AVID',\n",
       " 'AVLR',\n",
       " 'AVNS',\n",
       " 'AVNW',\n",
       " 'AVRO',\n",
       " 'AVT',\n",
       " 'AVTR',\n",
       " 'AVXL',\n",
       " 'AVY',\n",
       " 'AVYA',\n",
       " 'AWI',\n",
       " 'AWK',\n",
       " 'AWR',\n",
       " 'AWRE',\n",
       " 'AX',\n",
       " 'AXAS',\n",
       " 'AXDX',\n",
       " 'AXGN',\n",
       " 'AXL',\n",
       " 'AXNX',\n",
       " 'AXP',\n",
       " 'AXR',\n",
       " 'AXS',\n",
       " 'AXSM',\n",
       " 'AXTA',\n",
       " 'AXTI',\n",
       " 'AYI',\n",
       " 'AYX',\n",
       " 'AZO',\n",
       " 'AZPN',\n",
       " 'AZZ',\n",
       " 'B',\n",
       " 'BA',\n",
       " 'BAC',\n",
       " 'BAH',\n",
       " 'BANC',\n",
       " 'BAND',\n",
       " 'BANF',\n",
       " 'BANR',\n",
       " 'BATRA',\n",
       " 'BATRK',\n",
       " 'BAX',\n",
       " 'BBBY',\n",
       " 'BBCP',\n",
       " 'BBGI',\n",
       " 'BBSI',\n",
       " 'BBW',\n",
       " 'BBY',\n",
       " 'BC',\n",
       " 'BCBP',\n",
       " 'BCC',\n",
       " 'BCLI',\n",
       " 'BCO',\n",
       " 'BCOR',\n",
       " 'BCOV',\n",
       " 'BCPC',\n",
       " 'BCRX',\n",
       " 'BDC',\n",
       " 'BDL',\n",
       " 'BDN',\n",
       " 'BDSI',\n",
       " 'BDX',\n",
       " 'BE',\n",
       " 'BEAT',\n",
       " 'BECN',\n",
       " 'BELFA',\n",
       " 'BELFB',\n",
       " 'BEN',\n",
       " 'BERY',\n",
       " 'BFAM',\n",
       " 'BFIN',\n",
       " 'BFS',\n",
       " 'BFST',\n",
       " 'BG',\n",
       " 'BGCP',\n",
       " 'BGFV',\n",
       " 'BGS',\n",
       " 'BGSF',\n",
       " 'BH',\n",
       " 'BHB',\n",
       " 'BHE',\n",
       " 'BHF',\n",
       " 'BHLB',\n",
       " 'BHR',\n",
       " 'BHVN',\n",
       " 'BIG',\n",
       " 'BIIB',\n",
       " 'BIO',\n",
       " 'BIOC',\n",
       " 'BIOL',\n",
       " 'BJ',\n",
       " 'BJRI',\n",
       " 'BK',\n",
       " 'BKD',\n",
       " 'BKE',\n",
       " 'BKH',\n",
       " 'BKI',\n",
       " 'BKNG',\n",
       " 'BKSC',\n",
       " 'BKTI',\n",
       " 'BKU',\n",
       " 'BL',\n",
       " 'BLBD',\n",
       " 'BLCM',\n",
       " 'BLD',\n",
       " 'BLDR',\n",
       " 'BLFS',\n",
       " 'BLK',\n",
       " 'BLKB',\n",
       " 'BLL',\n",
       " 'BLMN',\n",
       " 'BLUE',\n",
       " 'BMI',\n",
       " 'BMRC',\n",
       " 'BMRN',\n",
       " 'BMY',\n",
       " 'BNED',\n",
       " 'BNFT',\n",
       " 'BOH',\n",
       " 'BOKF',\n",
       " 'BOOM',\n",
       " 'BOOT',\n",
       " 'BOTJ',\n",
       " 'BOX',\n",
       " 'BPMC',\n",
       " 'BPOP',\n",
       " 'BPRN',\n",
       " 'BPTH',\n",
       " 'BR',\n",
       " 'BRC',\n",
       " 'BRG',\n",
       " 'BRID',\n",
       " 'BRKL',\n",
       " 'BRKR',\n",
       " 'BRN',\n",
       " 'BRO',\n",
       " 'BRT',\n",
       " 'BRX',\n",
       " 'BRY',\n",
       " 'BSET',\n",
       " 'BSGM',\n",
       " 'BSQR',\n",
       " 'BSRR',\n",
       " 'BSX',\n",
       " 'BTN',\n",
       " 'BTU',\n",
       " 'BURL',\n",
       " 'BUSE',\n",
       " 'BV',\n",
       " 'BW',\n",
       " 'BWA',\n",
       " 'BWEN',\n",
       " 'BWFG',\n",
       " 'BWXT',\n",
       " 'BXC',\n",
       " 'BXMT',\n",
       " 'BXP',\n",
       " 'BY',\n",
       " 'BYD',\n",
       " 'BYFC',\n",
       " 'BYND',\n",
       " 'BZH',\n",
       " 'C',\n",
       " 'CABO',\n",
       " 'CAC',\n",
       " 'CACC',\n",
       " 'CACI',\n",
       " 'CADE',\n",
       " 'CAG',\n",
       " 'CAH',\n",
       " 'CAKE',\n",
       " 'CAL',\n",
       " 'CALA',\n",
       " 'CALM',\n",
       " 'CALX',\n",
       " 'CAMP',\n",
       " 'CAPR',\n",
       " 'CAR',\n",
       " 'CARA',\n",
       " 'CARG',\n",
       " 'CARS']"
      ]
     },
     "execution_count": 3,
     "metadata": {},
     "output_type": "execute_result"
    }
   ],
   "source": [
    "files = [x for x in listdir(PATH) if isfile(join(PATH, x))]\n",
    "tickers = [os.path.splitext(x)[0] for x in files]\n",
    "tickers"
   ]
  },
  {
   "cell_type": "markdown",
   "metadata": {},
   "source": [
    "#### Function that Returns a Dataframe from a CSV"
   ]
  },
  {
   "cell_type": "code",
   "execution_count": 4,
   "metadata": {},
   "outputs": [],
   "source": [
    "def get_df_from_csv(ticker):\n",
    "    try:\n",
    "        df = pd.read_csv(PATH + ticker + '.csv')\n",
    "    except FileNotFoundError:\n",
    "        pass\n",
    "        # print(\"File Doesn't Exist\")\n",
    "    else:\n",
    "        return df"
   ]
  },
  {
   "cell_type": "markdown",
   "metadata": {},
   "source": [
    "#### Function that Saves Dataframe to CSV"
   ]
  },
  {
   "cell_type": "code",
   "execution_count": 5,
   "metadata": {},
   "outputs": [],
   "source": [
    "def save_dataframe_to_csv(df, ticker):\n",
    "    df.to_csv(PATH + ticker + '.csv')"
   ]
  },
  {
   "cell_type": "markdown",
   "metadata": {},
   "source": [
    "#### Return 1st Valid Date in Dataframe"
   ]
  },
  {
   "cell_type": "code",
   "execution_count": 6,
   "metadata": {},
   "outputs": [],
   "source": [
    "def get_valid_dates(df, sdate, edate):  \n",
    "    try:\n",
    "        mask = (df['Date'] > sdate) & (df['Date'] <= edate) \n",
    "        sm_df = df.loc[mask]\n",
    "        sm_df = sm_df.set_index(['Date'])\n",
    "        sm_date = sm_df.index.min()\n",
    "        last_date = sm_df.index.max()\n",
    "        date_leading = '-'.join(('0' if len(x)<2 else '')+x for x in sm_date.split('-'))\n",
    "        date_ending = '-'.join(('0' if len(x)<2 else '')+x for x in last_date.split('-'))\n",
    "    except Exception:\n",
    "        print(\"Date Corrupted\")\n",
    "    else:\n",
    "        return date_leading, date_ending"
   ]
  },
  {
   "cell_type": "markdown",
   "metadata": {},
   "source": [
    "#### Returns Return on Investment over Time"
   ]
  },
  {
   "cell_type": "code",
   "execution_count": 7,
   "metadata": {},
   "outputs": [],
   "source": [
    "def roi_between_dates(df, sdate, edate):\n",
    "    try: \n",
    "        start_val = df.loc[sdate,'Adj Close'] \n",
    "        end_val = df.loc[edate,'Adj Close']\n",
    "        roi = ((end_val - start_val) / start_val)\n",
    "    except Exception:\n",
    "        print(\"Data Corrupted\")\n",
    "    else:\n",
    "        return roi"
   ]
  },
  {
   "cell_type": "markdown",
   "metadata": {},
   "source": [
    "#### Get Mean Between Dates"
   ]
  },
  {
   "cell_type": "code",
   "execution_count": 8,
   "metadata": {},
   "outputs": [],
   "source": [
    "def get_mean_between_dates(df, sdate, edate):\n",
    "    mask = (df['Date'] > sdate) & (df['Date'] <= edate)\n",
    "    return df.loc[mask][\"Adj Close\"].mean()"
   ]
  },
  {
   "cell_type": "markdown",
   "metadata": {},
   "source": [
    "#### Get Standard Deviation Between Dates"
   ]
  },
  {
   "cell_type": "code",
   "execution_count": 9,
   "metadata": {},
   "outputs": [],
   "source": [
    "def get_sd_between_dates(df, sdate, edate):\n",
    "    mask = (df['Date'] > sdate) & (df['Date'] <= edate)\n",
    "    return df.loc[mask][\"Adj Close\"].std()"
   ]
  },
  {
   "cell_type": "markdown",
   "metadata": {},
   "source": [
    "#### Get Coefficient of Variation Between Dates"
   ]
  },
  {
   "cell_type": "code",
   "execution_count": 10,
   "metadata": {},
   "outputs": [],
   "source": [
    "def get_cov_between_dates(df, sdate, edate):\n",
    "    mean = get_mean_between_dates(df, sdate, edate)\n",
    "    sd = get_sd_between_dates(df, sdate, edate)\n",
    "    return sd / mean"
   ]
  },
  {
   "cell_type": "markdown",
   "metadata": {},
   "source": [
    "#### Merge Multiple Stocks in One Dataframe by Column Name"
   ]
  },
  {
   "cell_type": "code",
   "execution_count": 11,
   "metadata": {},
   "outputs": [],
   "source": [
    "def merge_df_by_column_name(col_name, sdate, edate, *tickers):\n",
    "    # Will hold data for all dataframes with the same column name\n",
    "    mult_df = pd.DataFrame()\n",
    "    \n",
    "    for x in tickers:\n",
    "        df = get_df_from_csv(x)\n",
    "        df['Date'] = pd.to_datetime(df['Date'])\n",
    "        # Use a mask to grab data between defined dates\n",
    "        mask = (df['Date'] >= sdate) & (df['Date'] <= edate)\n",
    "        mult_df[x] = df.loc[mask][col_name]\n",
    "        \n",
    "    return mult_df"
   ]
  },
  {
   "cell_type": "markdown",
   "metadata": {},
   "source": [
    "---\n",
    "NEW"
   ]
  },
  {
   "cell_type": "markdown",
   "metadata": {},
   "source": [
    "\n",
    "#### 11 Stock Market Sectors\n",
    "\n",
    "**Technology**: Manufacturing of electronics, software, or related to information technology\n",
    "\n",
    "**Health Care**: Biotech, hospitals, medical devices, drugs\n",
    "\n",
    "**Financials**: Banks, investment funds, and insurance\n",
    "\n",
    "**Real Estate**: Residential, industrial, and retail real estate\n",
    "\n",
    "**Energy**: Production and supply of energy\n",
    "\n",
    "**Materials**: Mining, refining, chemical, and forestry\n",
    "\n",
    "**Consumer Discretionary**: Retailers, apparel, media, durables and services\n",
    "\n",
    "**Industrials**: Construction, machinery, fabrication, manufacturing, defense, and aerospace\n",
    "\n",
    "**Utilities**: Direct providers of electric, gas, and water\n",
    "\n",
    "**Consumer Staples**: Food, beverage as well as products consumers deem essential\n",
    "\n",
    "**Telecommunication**: Cable, internet providers, wireless, and satellite"
   ]
  },
  {
   "cell_type": "markdown",
   "metadata": {},
   "source": [
    "#### Get Sector Stocks"
   ]
  },
  {
   "cell_type": "code",
   "execution_count": 12,
   "metadata": {},
   "outputs": [],
   "source": [
    "# For Windows\n",
    "sec_df = pd.read_csv('../data/stock_sectors.csv')\n",
    "\n",
    "# Get Industrials DF\n",
    "indus_df = sec_df.loc[sec_df['Sector'] == \"Industrials\"]\n",
    "health_df = sec_df.loc[sec_df['Sector'] == \"Health Care\"]\n",
    "it_df = sec_df.loc[sec_df['Sector'] == \"Information Technology\"]\n",
    "comm_df = sec_df.loc[sec_df['Sector'] == \"Communication Services\"]\n",
    "staple_df = sec_df.loc[sec_df['Sector'] == \"Consumer Staples\"]\n",
    "discretion_df = sec_df.loc[sec_df['Sector'] == \"Consumer Discretionary\"]\n",
    "utility_df = sec_df.loc[sec_df['Sector'] == \"Utilities\"]\n",
    "financial_df = sec_df.loc[sec_df['Sector'] == \"Financials\"]\n",
    "material_df = sec_df.loc[sec_df['Sector'] == \"Materials\"]\n",
    "restate_df = sec_df.loc[sec_df['Sector'] == \"Real Estate\"]\n",
    "energy_df = sec_df.loc[sec_df['Sector'] == \"Energy\"]"
   ]
  },
  {
   "cell_type": "code",
   "execution_count": 13,
   "metadata": {},
   "outputs": [
    {
     "data": {
      "text/html": [
       "<div>\n",
       "<style scoped>\n",
       "    .dataframe tbody tr th:only-of-type {\n",
       "        vertical-align: middle;\n",
       "    }\n",
       "\n",
       "    .dataframe tbody tr th {\n",
       "        vertical-align: top;\n",
       "    }\n",
       "\n",
       "    .dataframe thead th {\n",
       "        text-align: right;\n",
       "    }\n",
       "</style>\n",
       "<table border=\"1\" class=\"dataframe\">\n",
       "  <thead>\n",
       "    <tr style=\"text-align: right;\">\n",
       "      <th></th>\n",
       "      <th>Symbol</th>\n",
       "      <th>Name</th>\n",
       "      <th>Sector</th>\n",
       "    </tr>\n",
       "  </thead>\n",
       "  <tbody>\n",
       "    <tr>\n",
       "      <th>0</th>\n",
       "      <td>MMM</td>\n",
       "      <td>3M</td>\n",
       "      <td>Industrials</td>\n",
       "    </tr>\n",
       "    <tr>\n",
       "      <th>1</th>\n",
       "      <td>AOS</td>\n",
       "      <td>A. O. Smith</td>\n",
       "      <td>Industrials</td>\n",
       "    </tr>\n",
       "    <tr>\n",
       "      <th>2</th>\n",
       "      <td>ABT</td>\n",
       "      <td>Abbott Laboratories</td>\n",
       "      <td>Health Care</td>\n",
       "    </tr>\n",
       "    <tr>\n",
       "      <th>3</th>\n",
       "      <td>ABBV</td>\n",
       "      <td>AbbVie</td>\n",
       "      <td>Health Care</td>\n",
       "    </tr>\n",
       "    <tr>\n",
       "      <th>4</th>\n",
       "      <td>ABMD</td>\n",
       "      <td>Abiomed</td>\n",
       "      <td>Health Care</td>\n",
       "    </tr>\n",
       "    <tr>\n",
       "      <th>...</th>\n",
       "      <td>...</td>\n",
       "      <td>...</td>\n",
       "      <td>...</td>\n",
       "    </tr>\n",
       "    <tr>\n",
       "      <th>500</th>\n",
       "      <td>YUM</td>\n",
       "      <td>Yum! Brands</td>\n",
       "      <td>Consumer Discretionary</td>\n",
       "    </tr>\n",
       "    <tr>\n",
       "      <th>501</th>\n",
       "      <td>ZBRA</td>\n",
       "      <td>Zebra Technologies</td>\n",
       "      <td>Information Technology</td>\n",
       "    </tr>\n",
       "    <tr>\n",
       "      <th>502</th>\n",
       "      <td>ZBH</td>\n",
       "      <td>Zimmer Biomet</td>\n",
       "      <td>Health Care</td>\n",
       "    </tr>\n",
       "    <tr>\n",
       "      <th>503</th>\n",
       "      <td>ZION</td>\n",
       "      <td>Zions Bancorp</td>\n",
       "      <td>Financials</td>\n",
       "    </tr>\n",
       "    <tr>\n",
       "      <th>504</th>\n",
       "      <td>ZTS</td>\n",
       "      <td>Zoetis</td>\n",
       "      <td>Health Care</td>\n",
       "    </tr>\n",
       "  </tbody>\n",
       "</table>\n",
       "<p>505 rows × 3 columns</p>\n",
       "</div>"
      ],
      "text/plain": [
       "    Symbol                 Name                  Sector\n",
       "0      MMM                   3M             Industrials\n",
       "1      AOS          A. O. Smith             Industrials\n",
       "2      ABT  Abbott Laboratories             Health Care\n",
       "3     ABBV               AbbVie             Health Care\n",
       "4     ABMD              Abiomed             Health Care\n",
       "..     ...                  ...                     ...\n",
       "500    YUM          Yum! Brands  Consumer Discretionary\n",
       "501   ZBRA   Zebra Technologies  Information Technology\n",
       "502    ZBH        Zimmer Biomet             Health Care\n",
       "503   ZION        Zions Bancorp              Financials\n",
       "504    ZTS               Zoetis             Health Care\n",
       "\n",
       "[505 rows x 3 columns]"
      ]
     },
     "execution_count": 13,
     "metadata": {},
     "output_type": "execute_result"
    }
   ],
   "source": [
    "sec_df"
   ]
  },
  {
   "cell_type": "markdown",
   "metadata": {},
   "source": [
    "#### Returns a DF with ROIs for all Stocks"
   ]
  },
  {
   "cell_type": "code",
   "execution_count": 14,
   "metadata": {},
   "outputs": [],
   "source": [
    "def get_rois_for_stocks(stock_df):\n",
    "    # Will hold all tickers & stock rois\n",
    "    tickers = []\n",
    "    rois = []\n",
    "\n",
    "    # iterrows provides the index and column for each row in the DF\n",
    "    for index, row in stock_df.iterrows():\n",
    "        df = get_df_from_csv(row['Symbol'])\n",
    "    \n",
    "        # If we can't find the ticker delete it from the dataframe\n",
    "        if df is None:\n",
    "            pass\n",
    "            # print(row['Symbol'], \" is not available\")\n",
    "        else:\n",
    "            tickers.append(row['Symbol'])\n",
    "            sdate, edate = get_valid_dates(df, '2018-01-01', '2020-12-31')\n",
    "            df = df.set_index(['Date'])\n",
    "            roi = roi_between_dates(df, sdate, edate)\n",
    "            rois.append(roi)\n",
    "    return pd.DataFrame({'Ticker':tickers, 'ROI':rois})"
   ]
  },
  {
   "cell_type": "code",
   "execution_count": 15,
   "metadata": {},
   "outputs": [],
   "source": [
    "industrial = get_rois_for_stocks(indus_df)\n",
    "health_care = get_rois_for_stocks(health_df)\n",
    "it = get_rois_for_stocks(it_df)\n",
    "commun = get_rois_for_stocks(comm_df)\n",
    "staple = get_rois_for_stocks(staple_df)\n",
    "discretion = get_rois_for_stocks(discretion_df)\n",
    "utility = get_rois_for_stocks(utility_df)\n",
    "finance = get_rois_for_stocks(financial_df)\n",
    "material = get_rois_for_stocks(material_df)\n",
    "restate = get_rois_for_stocks(restate_df)\n",
    "energy = get_rois_for_stocks(energy_df)"
   ]
  },
  {
   "cell_type": "code",
   "execution_count": 16,
   "metadata": {},
   "outputs": [
    {
     "data": {
      "text/html": [
       "<div>\n",
       "<style scoped>\n",
       "    .dataframe tbody tr th:only-of-type {\n",
       "        vertical-align: middle;\n",
       "    }\n",
       "\n",
       "    .dataframe tbody tr th {\n",
       "        vertical-align: top;\n",
       "    }\n",
       "\n",
       "    .dataframe thead th {\n",
       "        text-align: right;\n",
       "    }\n",
       "</style>\n",
       "<table border=\"1\" class=\"dataframe\">\n",
       "  <thead>\n",
       "    <tr style=\"text-align: right;\">\n",
       "      <th></th>\n",
       "      <th>Ticker</th>\n",
       "      <th>ROI</th>\n",
       "    </tr>\n",
       "  </thead>\n",
       "  <tbody>\n",
       "    <tr>\n",
       "      <th>0</th>\n",
       "      <td>AOS</td>\n",
       "      <td>-0.060680</td>\n",
       "    </tr>\n",
       "    <tr>\n",
       "      <th>1</th>\n",
       "      <td>ALK</td>\n",
       "      <td>-0.273133</td>\n",
       "    </tr>\n",
       "    <tr>\n",
       "      <th>2</th>\n",
       "      <td>ALLE</td>\n",
       "      <td>0.504415</td>\n",
       "    </tr>\n",
       "    <tr>\n",
       "      <th>3</th>\n",
       "      <td>AAL</td>\n",
       "      <td>-0.694661</td>\n",
       "    </tr>\n",
       "    <tr>\n",
       "      <th>4</th>\n",
       "      <td>AME</td>\n",
       "      <td>0.698375</td>\n",
       "    </tr>\n",
       "    <tr>\n",
       "      <th>5</th>\n",
       "      <td>BA</td>\n",
       "      <td>-0.243300</td>\n",
       "    </tr>\n",
       "  </tbody>\n",
       "</table>\n",
       "</div>"
      ],
      "text/plain": [
       "  Ticker       ROI\n",
       "0    AOS -0.060680\n",
       "1    ALK -0.273133\n",
       "2   ALLE  0.504415\n",
       "3    AAL -0.694661\n",
       "4    AME  0.698375\n",
       "5     BA -0.243300"
      ]
     },
     "execution_count": 16,
     "metadata": {},
     "output_type": "execute_result"
    }
   ],
   "source": [
    "industrial"
   ]
  },
  {
   "cell_type": "markdown",
   "metadata": {},
   "source": [
    "I only have few stocks, so the results of the following top depends from that issue."
   ]
  },
  {
   "cell_type": "markdown",
   "metadata": {},
   "source": [
    "#### Top Industrials"
   ]
  },
  {
   "cell_type": "code",
   "execution_count": 17,
   "metadata": {},
   "outputs": [
    {
     "data": {
      "text/html": [
       "<div>\n",
       "<style scoped>\n",
       "    .dataframe tbody tr th:only-of-type {\n",
       "        vertical-align: middle;\n",
       "    }\n",
       "\n",
       "    .dataframe tbody tr th {\n",
       "        vertical-align: top;\n",
       "    }\n",
       "\n",
       "    .dataframe thead th {\n",
       "        text-align: right;\n",
       "    }\n",
       "</style>\n",
       "<table border=\"1\" class=\"dataframe\">\n",
       "  <thead>\n",
       "    <tr style=\"text-align: right;\">\n",
       "      <th></th>\n",
       "      <th>Ticker</th>\n",
       "      <th>ROI</th>\n",
       "    </tr>\n",
       "  </thead>\n",
       "  <tbody>\n",
       "    <tr>\n",
       "      <th>4</th>\n",
       "      <td>AME</td>\n",
       "      <td>0.698375</td>\n",
       "    </tr>\n",
       "    <tr>\n",
       "      <th>2</th>\n",
       "      <td>ALLE</td>\n",
       "      <td>0.504415</td>\n",
       "    </tr>\n",
       "    <tr>\n",
       "      <th>0</th>\n",
       "      <td>AOS</td>\n",
       "      <td>-0.060680</td>\n",
       "    </tr>\n",
       "    <tr>\n",
       "      <th>5</th>\n",
       "      <td>BA</td>\n",
       "      <td>-0.243300</td>\n",
       "    </tr>\n",
       "    <tr>\n",
       "      <th>1</th>\n",
       "      <td>ALK</td>\n",
       "      <td>-0.273133</td>\n",
       "    </tr>\n",
       "  </tbody>\n",
       "</table>\n",
       "</div>"
      ],
      "text/plain": [
       "  Ticker       ROI\n",
       "4    AME  0.698375\n",
       "2   ALLE  0.504415\n",
       "0    AOS -0.060680\n",
       "5     BA -0.243300\n",
       "1    ALK -0.273133"
      ]
     },
     "execution_count": 17,
     "metadata": {},
     "output_type": "execute_result"
    }
   ],
   "source": [
    "industrial.sort_values(by=['ROI'], ascending=False).head(5)"
   ]
  },
  {
   "cell_type": "markdown",
   "metadata": {},
   "source": [
    "#### Top Healthcare"
   ]
  },
  {
   "cell_type": "code",
   "execution_count": 18,
   "metadata": {},
   "outputs": [
    {
     "data": {
      "text/html": [
       "<div>\n",
       "<style scoped>\n",
       "    .dataframe tbody tr th:only-of-type {\n",
       "        vertical-align: middle;\n",
       "    }\n",
       "\n",
       "    .dataframe tbody tr th {\n",
       "        vertical-align: top;\n",
       "    }\n",
       "\n",
       "    .dataframe thead th {\n",
       "        text-align: right;\n",
       "    }\n",
       "</style>\n",
       "<table border=\"1\" class=\"dataframe\">\n",
       "  <thead>\n",
       "    <tr style=\"text-align: right;\">\n",
       "      <th></th>\n",
       "      <th>Ticker</th>\n",
       "      <th>ROI</th>\n",
       "    </tr>\n",
       "  </thead>\n",
       "  <tbody>\n",
       "    <tr>\n",
       "      <th>10</th>\n",
       "      <td>BIO</td>\n",
       "      <td>1.414630</td>\n",
       "    </tr>\n",
       "    <tr>\n",
       "      <th>4</th>\n",
       "      <td>ALGN</td>\n",
       "      <td>1.379040</td>\n",
       "    </tr>\n",
       "    <tr>\n",
       "      <th>0</th>\n",
       "      <td>ABT</td>\n",
       "      <td>0.958374</td>\n",
       "    </tr>\n",
       "    <tr>\n",
       "      <th>3</th>\n",
       "      <td>A</td>\n",
       "      <td>0.795687</td>\n",
       "    </tr>\n",
       "    <tr>\n",
       "      <th>2</th>\n",
       "      <td>ABMD</td>\n",
       "      <td>0.684243</td>\n",
       "    </tr>\n",
       "  </tbody>\n",
       "</table>\n",
       "</div>"
      ],
      "text/plain": [
       "   Ticker       ROI\n",
       "10    BIO  1.414630\n",
       "4    ALGN  1.379040\n",
       "0     ABT  0.958374\n",
       "3       A  0.795687\n",
       "2    ABMD  0.684243"
      ]
     },
     "execution_count": 18,
     "metadata": {},
     "output_type": "execute_result"
    }
   ],
   "source": [
    "health_care.sort_values(by=['ROI'], ascending=False).head(5)"
   ]
  },
  {
   "cell_type": "markdown",
   "metadata": {},
   "source": [
    "#### Top Information Tech"
   ]
  },
  {
   "cell_type": "code",
   "execution_count": 19,
   "metadata": {},
   "outputs": [
    {
     "data": {
      "text/html": [
       "<div>\n",
       "<style scoped>\n",
       "    .dataframe tbody tr th:only-of-type {\n",
       "        vertical-align: middle;\n",
       "    }\n",
       "\n",
       "    .dataframe tbody tr th {\n",
       "        vertical-align: top;\n",
       "    }\n",
       "\n",
       "    .dataframe thead th {\n",
       "        text-align: right;\n",
       "    }\n",
       "</style>\n",
       "<table border=\"1\" class=\"dataframe\">\n",
       "  <thead>\n",
       "    <tr style=\"text-align: right;\">\n",
       "      <th></th>\n",
       "      <th>Ticker</th>\n",
       "      <th>ROI</th>\n",
       "    </tr>\n",
       "  </thead>\n",
       "  <tbody>\n",
       "    <tr>\n",
       "      <th>2</th>\n",
       "      <td>AMD</td>\n",
       "      <td>7.352459</td>\n",
       "    </tr>\n",
       "    <tr>\n",
       "      <th>7</th>\n",
       "      <td>AAPL</td>\n",
       "      <td>2.201818</td>\n",
       "    </tr>\n",
       "    <tr>\n",
       "      <th>10</th>\n",
       "      <td>ADSK</td>\n",
       "      <td>1.850448</td>\n",
       "    </tr>\n",
       "    <tr>\n",
       "      <th>1</th>\n",
       "      <td>ADBE</td>\n",
       "      <td>1.814406</td>\n",
       "    </tr>\n",
       "    <tr>\n",
       "      <th>6</th>\n",
       "      <td>ANSS</td>\n",
       "      <td>1.449007</td>\n",
       "    </tr>\n",
       "  </tbody>\n",
       "</table>\n",
       "</div>"
      ],
      "text/plain": [
       "   Ticker       ROI\n",
       "2     AMD  7.352459\n",
       "7    AAPL  2.201818\n",
       "10   ADSK  1.850448\n",
       "1    ADBE  1.814406\n",
       "6    ANSS  1.449007"
      ]
     },
     "execution_count": 19,
     "metadata": {},
     "output_type": "execute_result"
    }
   ],
   "source": [
    "it.sort_values(by=['ROI'], ascending=False).head(5)"
   ]
  },
  {
   "cell_type": "markdown",
   "metadata": {},
   "source": [
    "#### Top Communications"
   ]
  },
  {
   "cell_type": "code",
   "execution_count": 21,
   "metadata": {},
   "outputs": [
    {
     "data": {
      "text/html": [
       "<div>\n",
       "<style scoped>\n",
       "    .dataframe tbody tr th:only-of-type {\n",
       "        vertical-align: middle;\n",
       "    }\n",
       "\n",
       "    .dataframe tbody tr th {\n",
       "        vertical-align: top;\n",
       "    }\n",
       "\n",
       "    .dataframe thead th {\n",
       "        text-align: right;\n",
       "    }\n",
       "</style>\n",
       "<table border=\"1\" class=\"dataframe\">\n",
       "  <thead>\n",
       "    <tr style=\"text-align: right;\">\n",
       "      <th></th>\n",
       "      <th>Ticker</th>\n",
       "      <th>ROI</th>\n",
       "    </tr>\n",
       "  </thead>\n",
       "  <tbody>\n",
       "    <tr>\n",
       "      <th>0</th>\n",
       "      <td>ATVI</td>\n",
       "      <td>0.47251</td>\n",
       "    </tr>\n",
       "  </tbody>\n",
       "</table>\n",
       "</div>"
      ],
      "text/plain": [
       "  Ticker      ROI\n",
       "0   ATVI  0.47251"
      ]
     },
     "execution_count": 21,
     "metadata": {},
     "output_type": "execute_result"
    }
   ],
   "source": [
    "commun.sort_values(by=['ROI'], ascending=False).head(20)"
   ]
  },
  {
   "cell_type": "markdown",
   "metadata": {},
   "source": [
    "#### Top Staples"
   ]
  },
  {
   "cell_type": "code",
   "execution_count": 22,
   "metadata": {},
   "outputs": [
    {
     "data": {
      "text/html": [
       "<div>\n",
       "<style scoped>\n",
       "    .dataframe tbody tr th:only-of-type {\n",
       "        vertical-align: middle;\n",
       "    }\n",
       "\n",
       "    .dataframe tbody tr th {\n",
       "        vertical-align: top;\n",
       "    }\n",
       "\n",
       "    .dataframe thead th {\n",
       "        text-align: right;\n",
       "    }\n",
       "</style>\n",
       "<table border=\"1\" class=\"dataframe\">\n",
       "  <thead>\n",
       "    <tr style=\"text-align: right;\">\n",
       "      <th></th>\n",
       "      <th>Ticker</th>\n",
       "      <th>ROI</th>\n",
       "    </tr>\n",
       "  </thead>\n",
       "  <tbody>\n",
       "    <tr>\n",
       "      <th>0</th>\n",
       "      <td>ADM</td>\n",
       "      <td>0.385834</td>\n",
       "    </tr>\n",
       "    <tr>\n",
       "      <th>1</th>\n",
       "      <td>CAG</td>\n",
       "      <td>0.047920</td>\n",
       "    </tr>\n",
       "  </tbody>\n",
       "</table>\n",
       "</div>"
      ],
      "text/plain": [
       "  Ticker       ROI\n",
       "0    ADM  0.385834\n",
       "1    CAG  0.047920"
      ]
     },
     "execution_count": 22,
     "metadata": {},
     "output_type": "execute_result"
    }
   ],
   "source": [
    "staple.sort_values(by=['ROI'], ascending=False).head(5)"
   ]
  },
  {
   "cell_type": "markdown",
   "metadata": {},
   "source": [
    "#### Top Discretionary"
   ]
  },
  {
   "cell_type": "code",
   "execution_count": 23,
   "metadata": {},
   "outputs": [
    {
     "data": {
      "text/html": [
       "<div>\n",
       "<style scoped>\n",
       "    .dataframe tbody tr th:only-of-type {\n",
       "        vertical-align: middle;\n",
       "    }\n",
       "\n",
       "    .dataframe tbody tr th {\n",
       "        vertical-align: top;\n",
       "    }\n",
       "\n",
       "    .dataframe thead th {\n",
       "        text-align: right;\n",
       "    }\n",
       "</style>\n",
       "<table border=\"1\" class=\"dataframe\">\n",
       "  <thead>\n",
       "    <tr style=\"text-align: right;\">\n",
       "      <th></th>\n",
       "      <th>Ticker</th>\n",
       "      <th>ROI</th>\n",
       "    </tr>\n",
       "  </thead>\n",
       "  <tbody>\n",
       "    <tr>\n",
       "      <th>1</th>\n",
       "      <td>AMZN</td>\n",
       "      <td>1.739195</td>\n",
       "    </tr>\n",
       "    <tr>\n",
       "      <th>3</th>\n",
       "      <td>AZO</td>\n",
       "      <td>0.609471</td>\n",
       "    </tr>\n",
       "    <tr>\n",
       "      <th>4</th>\n",
       "      <td>BBY</td>\n",
       "      <td>0.563621</td>\n",
       "    </tr>\n",
       "    <tr>\n",
       "      <th>2</th>\n",
       "      <td>APTV</td>\n",
       "      <td>0.540217</td>\n",
       "    </tr>\n",
       "    <tr>\n",
       "      <th>0</th>\n",
       "      <td>AAP</td>\n",
       "      <td>0.500939</td>\n",
       "    </tr>\n",
       "  </tbody>\n",
       "</table>\n",
       "</div>"
      ],
      "text/plain": [
       "  Ticker       ROI\n",
       "1   AMZN  1.739195\n",
       "3    AZO  0.609471\n",
       "4    BBY  0.563621\n",
       "2   APTV  0.540217\n",
       "0    AAP  0.500939"
      ]
     },
     "execution_count": 23,
     "metadata": {},
     "output_type": "execute_result"
    }
   ],
   "source": [
    "discretion.sort_values(by=['ROI'], ascending=False).head(5)"
   ]
  },
  {
   "cell_type": "markdown",
   "metadata": {},
   "source": [
    "#### Top Utilities"
   ]
  },
  {
   "cell_type": "code",
   "execution_count": 24,
   "metadata": {},
   "outputs": [
    {
     "data": {
      "text/html": [
       "<div>\n",
       "<style scoped>\n",
       "    .dataframe tbody tr th:only-of-type {\n",
       "        vertical-align: middle;\n",
       "    }\n",
       "\n",
       "    .dataframe tbody tr th {\n",
       "        vertical-align: top;\n",
       "    }\n",
       "\n",
       "    .dataframe thead th {\n",
       "        text-align: right;\n",
       "    }\n",
       "</style>\n",
       "<table border=\"1\" class=\"dataframe\">\n",
       "  <thead>\n",
       "    <tr style=\"text-align: right;\">\n",
       "      <th></th>\n",
       "      <th>Ticker</th>\n",
       "      <th>ROI</th>\n",
       "    </tr>\n",
       "  </thead>\n",
       "  <tbody>\n",
       "    <tr>\n",
       "      <th>0</th>\n",
       "      <td>AES</td>\n",
       "      <td>1.402913</td>\n",
       "    </tr>\n",
       "    <tr>\n",
       "      <th>3</th>\n",
       "      <td>AWK</td>\n",
       "      <td>0.819223</td>\n",
       "    </tr>\n",
       "    <tr>\n",
       "      <th>1</th>\n",
       "      <td>AEE</td>\n",
       "      <td>0.450588</td>\n",
       "    </tr>\n",
       "    <tr>\n",
       "      <th>2</th>\n",
       "      <td>AEP</td>\n",
       "      <td>0.271590</td>\n",
       "    </tr>\n",
       "    <tr>\n",
       "      <th>4</th>\n",
       "      <td>ATO</td>\n",
       "      <td>0.198211</td>\n",
       "    </tr>\n",
       "  </tbody>\n",
       "</table>\n",
       "</div>"
      ],
      "text/plain": [
       "  Ticker       ROI\n",
       "0    AES  1.402913\n",
       "3    AWK  0.819223\n",
       "1    AEE  0.450588\n",
       "2    AEP  0.271590\n",
       "4    ATO  0.198211"
      ]
     },
     "execution_count": 24,
     "metadata": {},
     "output_type": "execute_result"
    }
   ],
   "source": [
    "utility.sort_values(by=['ROI'], ascending=False).head(5)"
   ]
  },
  {
   "cell_type": "markdown",
   "metadata": {},
   "source": [
    "#### Top Finance"
   ]
  },
  {
   "cell_type": "code",
   "execution_count": 25,
   "metadata": {},
   "outputs": [
    {
     "data": {
      "text/html": [
       "<div>\n",
       "<style scoped>\n",
       "    .dataframe tbody tr th:only-of-type {\n",
       "        vertical-align: middle;\n",
       "    }\n",
       "\n",
       "    .dataframe tbody tr th {\n",
       "        vertical-align: top;\n",
       "    }\n",
       "\n",
       "    .dataframe thead th {\n",
       "        text-align: right;\n",
       "    }\n",
       "</style>\n",
       "<table border=\"1\" class=\"dataframe\">\n",
       "  <thead>\n",
       "    <tr style=\"text-align: right;\">\n",
       "      <th></th>\n",
       "      <th>Ticker</th>\n",
       "      <th>ROI</th>\n",
       "    </tr>\n",
       "  </thead>\n",
       "  <tbody>\n",
       "    <tr>\n",
       "      <th>6</th>\n",
       "      <td>AJG</td>\n",
       "      <td>1.112315</td>\n",
       "    </tr>\n",
       "    <tr>\n",
       "      <th>5</th>\n",
       "      <td>AON</td>\n",
       "      <td>0.659335</td>\n",
       "    </tr>\n",
       "    <tr>\n",
       "      <th>9</th>\n",
       "      <td>BLK</td>\n",
       "      <td>0.536003</td>\n",
       "    </tr>\n",
       "    <tr>\n",
       "      <th>7</th>\n",
       "      <td>AIZ</td>\n",
       "      <td>0.466653</td>\n",
       "    </tr>\n",
       "    <tr>\n",
       "      <th>2</th>\n",
       "      <td>AXP</td>\n",
       "      <td>0.280488</td>\n",
       "    </tr>\n",
       "  </tbody>\n",
       "</table>\n",
       "</div>"
      ],
      "text/plain": [
       "  Ticker       ROI\n",
       "6    AJG  1.112315\n",
       "5    AON  0.659335\n",
       "9    BLK  0.536003\n",
       "7    AIZ  0.466653\n",
       "2    AXP  0.280488"
      ]
     },
     "execution_count": 25,
     "metadata": {},
     "output_type": "execute_result"
    }
   ],
   "source": [
    "finance.sort_values(by=['ROI'], ascending=False).head(5)"
   ]
  },
  {
   "cell_type": "markdown",
   "metadata": {},
   "source": [
    "#### Top Materials"
   ]
  },
  {
   "cell_type": "code",
   "execution_count": 26,
   "metadata": {},
   "outputs": [
    {
     "data": {
      "text/html": [
       "<div>\n",
       "<style scoped>\n",
       "    .dataframe tbody tr th:only-of-type {\n",
       "        vertical-align: middle;\n",
       "    }\n",
       "\n",
       "    .dataframe tbody tr th {\n",
       "        vertical-align: top;\n",
       "    }\n",
       "\n",
       "    .dataframe thead th {\n",
       "        text-align: right;\n",
       "    }\n",
       "</style>\n",
       "<table border=\"1\" class=\"dataframe\">\n",
       "  <thead>\n",
       "    <tr style=\"text-align: right;\">\n",
       "      <th></th>\n",
       "      <th>Ticker</th>\n",
       "      <th>ROI</th>\n",
       "    </tr>\n",
       "  </thead>\n",
       "  <tbody>\n",
       "    <tr>\n",
       "      <th>3</th>\n",
       "      <td>BLL</td>\n",
       "      <td>1.474667</td>\n",
       "    </tr>\n",
       "    <tr>\n",
       "      <th>0</th>\n",
       "      <td>APD</td>\n",
       "      <td>0.771643</td>\n",
       "    </tr>\n",
       "    <tr>\n",
       "      <th>2</th>\n",
       "      <td>AVY</td>\n",
       "      <td>0.421215</td>\n",
       "    </tr>\n",
       "    <tr>\n",
       "      <th>1</th>\n",
       "      <td>ALB</td>\n",
       "      <td>0.180334</td>\n",
       "    </tr>\n",
       "  </tbody>\n",
       "</table>\n",
       "</div>"
      ],
      "text/plain": [
       "  Ticker       ROI\n",
       "3    BLL  1.474667\n",
       "0    APD  0.771643\n",
       "2    AVY  0.421215\n",
       "1    ALB  0.180334"
      ]
     },
     "execution_count": 26,
     "metadata": {},
     "output_type": "execute_result"
    }
   ],
   "source": [
    "material.sort_values(by=['ROI'], ascending=False).head(5)"
   ]
  },
  {
   "cell_type": "markdown",
   "metadata": {},
   "source": [
    "#### Top Real Estate"
   ]
  },
  {
   "cell_type": "code",
   "execution_count": 27,
   "metadata": {},
   "outputs": [
    {
     "data": {
      "text/html": [
       "<div>\n",
       "<style scoped>\n",
       "    .dataframe tbody tr th:only-of-type {\n",
       "        vertical-align: middle;\n",
       "    }\n",
       "\n",
       "    .dataframe tbody tr th {\n",
       "        vertical-align: top;\n",
       "    }\n",
       "\n",
       "    .dataframe thead th {\n",
       "        text-align: right;\n",
       "    }\n",
       "</style>\n",
       "<table border=\"1\" class=\"dataframe\">\n",
       "  <thead>\n",
       "    <tr style=\"text-align: right;\">\n",
       "      <th></th>\n",
       "      <th>Ticker</th>\n",
       "      <th>ROI</th>\n",
       "    </tr>\n",
       "  </thead>\n",
       "  <tbody>\n",
       "    <tr>\n",
       "      <th>1</th>\n",
       "      <td>AMT</td>\n",
       "      <td>0.685783</td>\n",
       "    </tr>\n",
       "    <tr>\n",
       "      <th>0</th>\n",
       "      <td>ARE</td>\n",
       "      <td>0.492708</td>\n",
       "    </tr>\n",
       "    <tr>\n",
       "      <th>2</th>\n",
       "      <td>AVB</td>\n",
       "      <td>0.005870</td>\n",
       "    </tr>\n",
       "    <tr>\n",
       "      <th>3</th>\n",
       "      <td>BXP</td>\n",
       "      <td>-0.189743</td>\n",
       "    </tr>\n",
       "  </tbody>\n",
       "</table>\n",
       "</div>"
      ],
      "text/plain": [
       "  Ticker       ROI\n",
       "1    AMT  0.685783\n",
       "0    ARE  0.492708\n",
       "2    AVB  0.005870\n",
       "3    BXP -0.189743"
      ]
     },
     "execution_count": 27,
     "metadata": {},
     "output_type": "execute_result"
    }
   ],
   "source": [
    "restate.sort_values(by=['ROI'], ascending=False).head(5)"
   ]
  },
  {
   "cell_type": "markdown",
   "metadata": {},
   "source": [
    "#### Top Energy"
   ]
  },
  {
   "cell_type": "code",
   "execution_count": 28,
   "metadata": {},
   "outputs": [
    {
     "data": {
      "text/html": [
       "<div>\n",
       "<style scoped>\n",
       "    .dataframe tbody tr th:only-of-type {\n",
       "        vertical-align: middle;\n",
       "    }\n",
       "\n",
       "    .dataframe tbody tr th {\n",
       "        vertical-align: top;\n",
       "    }\n",
       "\n",
       "    .dataframe thead th {\n",
       "        text-align: right;\n",
       "    }\n",
       "</style>\n",
       "<table border=\"1\" class=\"dataframe\">\n",
       "  <thead>\n",
       "    <tr style=\"text-align: right;\">\n",
       "      <th></th>\n",
       "      <th>Ticker</th>\n",
       "      <th>ROI</th>\n",
       "    </tr>\n",
       "  </thead>\n",
       "  <tbody>\n",
       "    <tr>\n",
       "      <th>0</th>\n",
       "      <td>APA</td>\n",
       "      <td>-0.654885</td>\n",
       "    </tr>\n",
       "  </tbody>\n",
       "</table>\n",
       "</div>"
      ],
      "text/plain": [
       "  Ticker       ROI\n",
       "0    APA -0.654885"
      ]
     },
     "execution_count": 28,
     "metadata": {},
     "output_type": "execute_result"
    }
   ],
   "source": [
    "energy.sort_values(by=['ROI'], ascending=False).head(5)"
   ]
  },
  {
   "cell_type": "markdown",
   "metadata": {},
   "source": [
    "#### Portfolio List"
   ]
  },
  {
   "cell_type": "code",
   "execution_count": 29,
   "metadata": {},
   "outputs": [],
   "source": [
    "port_list = [\"GNRC\", \"DXCM\", \"AMD\", \"NFLX\", \"COST\", \"TGT\", \"AES\", \"MSCI\", \n",
    "             \"NEM\", \"SBAC\", \"HES\"]"
   ]
  },
  {
   "cell_type": "markdown",
   "metadata": {},
   "source": [
    "#### Check for Correlation"
   ]
  },
  {
   "cell_type": "code",
   "execution_count": null,
   "metadata": {},
   "outputs": [],
   "source": [
    "mult_df = merge_df_by_column_name('daily_return',  '2018-01-01', \n",
    "                                  '2020-12-31', *port_list)\n",
    "mult_df\n",
    "\n",
    "# Generate a Correlation Matrix\n",
    "mult_df.corr()"
   ]
  },
  {
   "cell_type": "code",
   "execution_count": null,
   "metadata": {},
   "outputs": [],
   "source": [
    "# Get the number of samples\n",
    "days = len(mult_df.index)\n",
    "days"
   ]
  },
  {
   "cell_type": "code",
   "execution_count": null,
   "metadata": {},
   "outputs": [],
   "source": [
    "def get_stock_price_on_date(ticker, date):\n",
    "    df = get_df_from_csv(ticker)\n",
    "    df = df.set_index(['Date'])\n",
    "    return df.loc[date,'Adj Close']"
   ]
  },
  {
   "cell_type": "code",
   "execution_count": null,
   "metadata": {},
   "outputs": [],
   "source": [
    "# 01-04-2021 is the 1st date in 2021\n",
    "print(\"GNRC $\", get_stock_price_on_date('GNRC', '2021-01-04')) # 2 449.12\n",
    "print(\"DXCM $\", get_stock_price_on_date('DXCM', '2021-01-04')) # 1 357.74\n",
    "print(\"AMD $\", get_stock_price_on_date('AMD', '2021-01-04')) # 4 369.2\n",
    "print(\"NFLX $\", get_stock_price_on_date('NFLX', '2021-01-04')) # 1 522.86\n",
    "print(\"COST $\", get_stock_price_on_date('COST', '2021-01-04')) # 1 377.88\n",
    "print(\"TGT $\", get_stock_price_on_date('TGT', '2021-01-04')) # 3 527.46\n",
    "print(\"AES $\", get_stock_price_on_date('AES', '2021-01-04')) # 18 410.76\n",
    "print(\"MSCI $\", get_stock_price_on_date('MSCI', '2021-01-04')) # 1 435.40\n",
    "print(\"NEM $\", get_stock_price_on_date('NEM', '2021-01-04')) # 7 434.49\n",
    "print(\"SBAC $\", get_stock_price_on_date('SBAC', '2021-01-04')) # 2 548.84\n",
    "print(\"HES $\", get_stock_price_on_date('HES', '2021-01-04')) # 9 472.23\n",
    "\n",
    "# Total Investment\n",
    "tot_inv = 449.12 + 357.74 + 369.2 + 522.86 + 377.88 + 527.46 + 410.76 + \\\n",
    "435.40 + 434.49 + 548.84 + 472.23\n",
    "tot_inv"
   ]
  },
  {
   "cell_type": "markdown",
   "metadata": {},
   "source": [
    "#### Returns Portfolio Weight"
   ]
  },
  {
   "cell_type": "code",
   "execution_count": null,
   "metadata": {},
   "outputs": [],
   "source": [
    "def get_port_weight(price, total):\n",
    "    return price / total"
   ]
  },
  {
   "cell_type": "code",
   "execution_count": null,
   "metadata": {},
   "outputs": [],
   "source": [
    "gnrc_w = get_port_weight(449.12, 4905.98)\n",
    "dxcm_w = get_port_weight(357.74, 4905.98)\n",
    "amd_w = get_port_weight(369.2, 4905.98)\n",
    "nflx_w = get_port_weight(522.86, 4905.98)\n",
    "cost_w = get_port_weight(377.88, 4905.98)\n",
    "tgt_w = get_port_weight(527.46, 4905.98)\n",
    "aes_w = get_port_weight(410.76, 4905.98)\n",
    "msci_w = get_port_weight(435.40, 4905.98)\n",
    "nem_w = get_port_weight(434.49, 4905.98)\n",
    "sbac_w = get_port_weight(548.84, 4905.98)\n",
    "hes_w = get_port_weight(472.23, 4905.98)\n",
    "\n",
    "wts = np.array([gnrc_w, dxcm_w, amd_w, nflx_w, cost_w, tgt_w, aes_w, msci_w, \\\n",
    "                nem_w, sbac_w, hes_w])\n",
    "wts\n",
    "\n",
    "port_var = np.dot(wts.T, np.dot(mult_df.cov() * 756, wts))\n",
    "print(\"Portfolio Covariance :\", port_var)\n",
    "print(\"GNRC Var :\", mult_df[\"GNRC\"].var() * 756)\n",
    "print(\"NFLX Var :\", mult_df[\"NFLX\"].var() * 756)"
   ]
  },
  {
   "cell_type": "markdown",
   "metadata": {},
   "source": [
    "#### Different Types of Risk"
   ]
  },
  {
   "cell_type": "markdown",
   "metadata": {},
   "source": [
    "There is risk that you can limit through diversifaction (Idiosyncratic) and risk that you can't (Systematic). Systematic risk is caused by unforeseen conditions such as wars, recessions, natural disasters, dramatic changes in consumer actions, etc.\n",
    "\n",
    "Data tells us that if we make a portfolio made up of approximately 25 stocks that aren't correlated that we can dramatically lower idiosyncratic risk. That is one reason why people invest in indexes. You can further lower risk by investing in other countries, bonds and cash."
   ]
  },
  {
   "cell_type": "markdown",
   "metadata": {},
   "source": [
    "#### Diversifiable Risk"
   ]
  },
  {
   "cell_type": "code",
   "execution_count": null,
   "metadata": {},
   "outputs": [],
   "source": [
    "# Diversifiable Risk = Portfolio Variance - All Weighted Variances\n",
    "def calc_diversifiable_risk(df, tickers, weights):\n",
    "    # Gets number of days\n",
    "    days = len(mult_df.index)\n",
    "    # Calculate covariance of portfolio\n",
    "    port_covar = np.dot(weights.T, np.dot(df.cov() * days, weights)) \n",
    "    \n",
    "    i = 0\n",
    "    while i < len(tickers):\n",
    "        wt_sq = weights[i] ** 2\n",
    "        stk_var = mult_df[tickers[i]].var() * days\n",
    "        wt_var = wt_sq * stk_var\n",
    "        port_covar = port_covar - wt_var\n",
    "        i += 1\n",
    "    return port_covar"
   ]
  },
  {
   "cell_type": "code",
   "execution_count": null,
   "metadata": {},
   "outputs": [],
   "source": [
    "div_risk = calc_diversifiable_risk(mult_df, port_list, wts)\n",
    "div_risk"
   ]
  },
  {
   "cell_type": "markdown",
   "metadata": {},
   "source": [
    "#### Find Risk that Can't be Diversified"
   ]
  },
  {
   "cell_type": "code",
   "execution_count": null,
   "metadata": {},
   "outputs": [],
   "source": [
    "print(\"Systematic Risk :\", (port_var - div_risk))"
   ]
  }
 ],
 "metadata": {
  "interpreter": {
   "hash": "feac5ee11db6385b4c12b0947c117f22892e921fb5655ece65f725e09c2e67f4"
  },
  "kernelspec": {
   "display_name": "Python 3.9.7 ('finance')",
   "language": "python",
   "name": "python3"
  },
  "language_info": {
   "codemirror_mode": {
    "name": "ipython",
    "version": 3
   },
   "file_extension": ".py",
   "mimetype": "text/x-python",
   "name": "python",
   "nbconvert_exporter": "python",
   "pygments_lexer": "ipython3",
   "version": "3.9.7"
  },
  "orig_nbformat": 4
 },
 "nbformat": 4,
 "nbformat_minor": 2
}
