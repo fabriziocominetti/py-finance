{
 "cells": [
  {
   "cell_type": "markdown",
   "metadata": {},
   "source": [
    "## Python for Finance 1"
   ]
  },
  {
   "cell_type": "markdown",
   "metadata": {},
   "source": [
    "#### Imports"
   ]
  },
  {
   "cell_type": "code",
   "execution_count": null,
   "metadata": {},
   "outputs": [],
   "source": [
    "# Provides ways to work with large multidimensional arrays\n",
    "import numpy as np \n",
    "# Allows for further data manipulation and analysis\n",
    "import pandas as pd\n",
    "from pandas_datareader import data as web # Reads stock data \n",
    "import matplotlib.pyplot as plt # Plotting\n",
    "import matplotlib.dates as mdates # Styling dates\n",
    "%matplotlib inline\n",
    "\n",
    "import datetime as dt # For defining dates\n",
    "import mplfinance as mpf # Matplotlib finance"
   ]
  },
  {
   "cell_type": "markdown",
   "metadata": {},
   "source": [
    "#### Functions that saves stocks data to CSV"
   ]
  },
  {
   "cell_type": "code",
   "execution_count": null,
   "metadata": {},
   "outputs": [],
   "source": [
    "# Function that gets a dataframe by providing a ticker and starting date\n",
    "def save_to_csv_from_yahoo(ticker, syear, smonth, sday, eyear, emonth, eday):\n",
    "    \n",
    "    # Defines the time periods to use\n",
    "    start = dt.datetime(syear, smonth, sday)\n",
    "    end = dt.datetime(eyear, emonth, eday)\n",
    "    \n",
    "    # Reads data into a dataframe\n",
    "    df = web.DataReader(ticker, 'yahoo', start, end)\n",
    "\n",
    "    df.to_csv('../data/' + ticker + '.csv')\n",
    "    return df"
   ]
  },
  {
   "cell_type": "markdown",
   "metadata": {},
   "source": [
    "#### Function that returns a dataframe from a CSV"
   ]
  },
  {
   "cell_type": "code",
   "execution_count": null,
   "metadata": {},
   "outputs": [],
   "source": [
    "# Reads a dataframe from the CSV file, changes index to date and returns it\n",
    "def get_df_from_csv(ticker):\n",
    "    \n",
    "    # Try to get the file and if it doesn't exist issue a warning\n",
    "    try:\n",
    "        df = pd.read_csv('../data/' + ticker + '.csv')\n",
    "    except FileNotFoundError:\n",
    "        print(\"File doesn't exist\")\n",
    "    else:\n",
    "        return df"
   ]
  },
  {
   "cell_type": "markdown",
   "metadata": {},
   "source": [
    "#### Add daily return to dataframe"
   ]
  },
  {
   "cell_type": "code",
   "execution_count": null,
   "metadata": {},
   "outputs": [],
   "source": [
    "# We calculate a percentage rate of return for each day to compare investments.\n",
    "# Simple Rate of Return = (End Price - Beginning Price) / Beginning Price OR (EP / BP) - 1\n",
    "\n",
    "# Shift provides the value from the previous day\n",
    "# NaN is displayed because there was no previous day price for the 1st calculation\n",
    "\n",
    "def add_daily_return_to_df(df, ticker):\n",
    "    df['daily_return'] = (df['Adj Close'] / df['Adj Close'].shift(1)) - 1\n",
    "    df.to_csv('../data/' + ticker + '.csv')\n",
    "    return df   "
   ]
  },
  {
   "cell_type": "markdown",
   "metadata": {},
   "source": [
    "#### Returns total return over time"
   ]
  },
  {
   "cell_type": "code",
   "execution_count": null,
   "metadata": {},
   "outputs": [],
   "source": [
    "def get_return_defined_time(df, syear, smonth, sday, eyear, emonth, eday):\n",
    "    # Create string representations for the dates\n",
    "    start = f\"{syear}-{smonth}-{sday}\"\n",
    "    end = f\"{eyear}-{emonth}-{eday}\"\n",
    "    df['Date'] = pd.to_datetime(df['Date'])\n",
    "    \n",
    "    # Use a mask to grab data between defined dates\n",
    "    mask = (df['Date'] >= start) & (df['Date'] <= end)\n",
    "    \n",
    "    # Get the mean of the column named daily return\n",
    "    daily_ret = df.loc[mask]['daily_return'].mean()\n",
    "    \n",
    "    # Get the number of days between 2 dates\n",
    "    df2 = df.loc[mask]\n",
    "    days = df2.shape[0]\n",
    "\n",
    "    # Return the total return between 2 dates\n",
    "    return (days * daily_ret)"
   ]
  },
  {
   "cell_type": "markdown",
   "metadata": {},
   "source": [
    "#### Matplotlib finance"
   ]
  },
  {
   "cell_type": "code",
   "execution_count": null,
   "metadata": {},
   "outputs": [],
   "source": [
    "# Receives a ticker and the date range for which to plot\n",
    "def mplfinance_plot(ticker, chart_type, syear, smonth, sday, eyear, emonth, eday):\n",
    "    # Create string representations for the dates\n",
    "    start = f\"{syear}-{smonth}-{sday}\"\n",
    "    end = f\"{eyear}-{emonth}-{eday}\"\n",
    "\n",
    "    try:\n",
    "        df = pd.read_csv('../data/' + ticker + '.csv')\n",
    "    except FileNotFoundError:\n",
    "        print(\"File Doesn't Exist\")\n",
    "    else:\n",
    "        \n",
    "        # Set data.index as DatetimeIndex\n",
    "        df.index = pd.DatetimeIndex(df['Date'])\n",
    "        \n",
    "        # Define to only use data between provided dates\n",
    "        df_sub = df.loc[start:end]\n",
    "        \n",
    "        # A candlestick chart demonstrates the daily open, high, low and closing price of a stock\n",
    "        mpf.plot(df_sub,type='candle')\n",
    "\n",
    "        # Plot price changes\n",
    "        mpf.plot(df_sub,type='line')\n",
    "\n",
    "        # Moving averages provide trend information (Average of previous 4 observations)\n",
    "        mpf.plot(df_sub,type='ohlc',mav=4)\n",
    "        \n",
    "        # Define a built in style\n",
    "        s = mpf.make_mpf_style(base_mpf_style='charles', rc={'font.size': 8})\n",
    "        # Pass in the defined style to the whole canvas\n",
    "        fig = mpf.figure(figsize=(12, 8), style=s) \n",
    "        # Candle stick chart subplot\n",
    "        ax = fig.add_subplot(2,1,1) \n",
    "        # Volume chart subplot\n",
    "        av = fig.add_subplot(2,1,2, sharex=ax)  \n",
    "\n",
    "        # You can plot multiple MAVs, volume, non-trading days\n",
    "        mpf.plot(df_sub,type=chart_type, mav=(3,5,7), ax=ax, volume=av, show_nontrading=True)"
   ]
  },
  {
   "cell_type": "markdown",
   "metadata": {},
   "source": [
    "#### Simple price plot"
   ]
  },
  {
   "cell_type": "code",
   "execution_count": null,
   "metadata": {},
   "outputs": [],
   "source": [
    "# Creates a simple price / date plot between dates\n",
    "def price_plot(ticker, syear, smonth, sday, eyear, emonth, eday):\n",
    "    # Create string representations for the dates\n",
    "    start = f\"{syear}-{smonth}-{sday}\"\n",
    "    end = f\"{eyear}-{emonth}-{eday}\"\n",
    "    \n",
    "    try:\n",
    "        df = pd.read_csv('../data/' + ticker + '.csv')\n",
    "    except FileNotFoundError:\n",
    "        print(\"File Doesn't Exist\")\n",
    "    else:\n",
    "        \n",
    "        # Set data.index as DatetimeIndex\n",
    "        df.index = pd.DatetimeIndex(df['Date'])\n",
    "        \n",
    "        # Define to only use data between provided dates\n",
    "        df_sub = df.loc[start:end]\n",
    "        \n",
    "        # Convert to Numpy array\n",
    "        df_np = df_sub.to_numpy()\n",
    "        \n",
    "        # Get adjusted close data from the 5th column\n",
    "        np_adj_close = df_np[:,5]\n",
    "        \n",
    "        # Get date from the 1st\n",
    "        date_arr = df_np[:,1]\n",
    "        \n",
    "        # Defines area taken up by the plot\n",
    "        fig = plt.figure(figsize=(12,8),dpi=100)\n",
    "        axes = fig.add_axes([0,0,1,1])\n",
    "        \n",
    "        # Define the plot line color as navy\n",
    "        axes.plot(date_arr, np_adj_close, color='navy')\n",
    "        \n",
    "        # Set max ticks on the x axis\n",
    "        axes.xaxis.set_major_locator(plt.MaxNLocator(8))\n",
    "        \n",
    "        # Add a grid, color, dashes(5pts 1 pt dashes separated by 2pt space)\n",
    "        axes.grid(True, color='0.6', dashes=(5, 2, 1, 2))\n",
    "        \n",
    "        # Set grid background color\n",
    "        axes.set_facecolor('#FAEBD7')"
   ]
  },
  {
   "cell_type": "markdown",
   "metadata": {},
   "source": [
    "#### Download multiple stocks"
   ]
  },
  {
   "cell_type": "code",
   "execution_count": null,
   "metadata": {},
   "outputs": [],
   "source": [
    "def download_multiple_stocks(syear, smonth, sday, eyear, emonth, eday, *args):\n",
    "    for x in args:\n",
    "        save_to_csv_from_yahoo(x, syear, smonth, sday, eyear, emonth, eday)"
   ]
  },
  {
   "cell_type": "markdown",
   "metadata": {},
   "source": [
    "#### Merge multiple stocks in one dataframe by column name"
   ]
  },
  {
   "cell_type": "code",
   "execution_count": null,
   "metadata": {},
   "outputs": [],
   "source": [
    "def merge_df_by_column_name(col_name, syear, smonth, sday, eyear, emonth, eday, *tickers):\n",
    "    # Will hold data for all dataframes with the same column name\n",
    "    mult_df = pd.DataFrame()\n",
    "    \n",
    "    start = f\"{syear}-{smonth}-{sday}\"\n",
    "    end = f\"{eyear}-{emonth}-{eday}\"\n",
    "    \n",
    "    for x in tickers:\n",
    "        mult_df[x] = web.DataReader(x, 'yahoo', start, end)[col_name]\n",
    "        \n",
    "    return mult_df"
   ]
  },
  {
   "cell_type": "markdown",
   "metadata": {},
   "source": [
    "#### Get changing value of investment using multiple stocks"
   ]
  },
  {
   "cell_type": "code",
   "execution_count": null,
   "metadata": {},
   "outputs": [],
   "source": [
    "def plot_return_mult_stocks(investment, stock_df):\n",
    "    (stock_df / stock_df.iloc[0] * investment).plot(figsize = (15,6))"
   ]
  },
  {
   "cell_type": "markdown",
   "metadata": {},
   "source": [
    "#### Get standard deviation for multiple stocks"
   ]
  },
  {
   "cell_type": "markdown",
   "metadata": {},
   "source": [
    "Risk is a measure of the variability of return. Variance and Standard Deviation allow us to quantify risk.\n",
    "\n",
    "Variance is a measure of how spread out a data set is. It is calculated as the average squared deviation of each number from the mean of a data set.n It equals the sum of the squares of the difference between each data point and the mean divided by the number of data points minus 1.\n",
    "\n",
    "$s^2 = \\frac{\\sum (x - \\hat{x})^2}{N-1}$\n",
    "\n",
    "Example : If we have 3 annual returns of 23%, -8% and 15%. The mean return is 10%.\n",
    "\n",
    "- $(23 - 10)^2 = 169$\n",
    "- $(-8 -10)^2 = 324$\n",
    "- $(15 - 10)^2 = 25$\n",
    "- $169 + 324 + 25 = 518 / (3-1) = 259 = 2.59$\n",
    "\n",
    "Standard deviation is a measure of the amount of variation within a set of values. A low standard deviation indicates that the values tend to be close to the mean. A high standard deviation means values are more spread out. To get the Standard Deviation find the square root of the variance.\n",
    "\n",
    "$\\sqrt{s^2} = \\sqrt{2.59} = 1.609$"
   ]
  },
  {
   "cell_type": "code",
   "execution_count": null,
   "metadata": {},
   "outputs": [],
   "source": [
    "# Receives the dataframe with the Adj Close data along with the stock ticker\n",
    "# Returns the mean and standard deviation associated with the ticker\n",
    "def get_stock_mean_sd(stock_df, ticker):\n",
    "    return stock_df[ticker].mean(), stock_df[ticker].std()"
   ]
  },
  {
   "cell_type": "code",
   "execution_count": null,
   "metadata": {},
   "outputs": [],
   "source": [
    "# Receives the dataframe with the stock ticker as the column name and\n",
    "# the Adj Close values as the column data and returns the mean and \n",
    "# standard deviation\n",
    "def get_mult_stock_mean_sd(stock_df):\n",
    "    for stock in stock_df:\n",
    "        mean, sd = get_stock_mean_sd(stock_df, stock)\n",
    "        cov = sd / mean\n",
    "        print(\"Stock: {:4} Mean: {:7.2f} Standard deviation: {:2.2f}\".format(stock, mean, sd))\n",
    "        print(\"Coefficient of Variation: {}\\n\".format(cov))"
   ]
  },
  {
   "cell_type": "markdown",
   "metadata": {},
   "source": [
    "---"
   ]
  },
  {
   "cell_type": "markdown",
   "metadata": {},
   "source": [
    "Test functions"
   ]
  },
  {
   "cell_type": "code",
   "execution_count": null,
   "metadata": {},
   "outputs": [],
   "source": [
    "# Call to read the data from Yahoo into a CSV and then retrieve a Dataframe\n",
    "AMZN = save_to_csv_from_yahoo('AMZN', 2020, 1, 1, 2021, 1, 1)\n",
    "\n",
    "# Retrieve data from the CSV file\n",
    "AMZN = get_df_from_csv('AMZN')\n",
    "\n",
    "# Add daily return to function\n",
    "add_daily_return_to_df(AMZN, 'AMZN')\n",
    "\n",
    "# Get total return between dates\n",
    "tot_ret = get_return_defined_time(AMZN, 2020, 1, 1, 2021, 1, 1)\n",
    "print(\"Total Return :\", tot_ret)\n",
    "\n",
    "# Use Matplotlib finance to print multiple charts\n",
    "# mplfinance_plot('AMZN', 'ohlc', 2020, 6, 1, 2021, 1, 1)\n",
    "\n",
    "price_plot('AMZN', 2020, 6, 1, 2021, 1, 1)\n",
    "\n",
    "# Download multiple stocks\n",
    "tickers = [\"FB\", \"AAPL\", \"NFLX\", \"GOOG\"]\n",
    "# download_multiple_stocks(2020, 1, 1, 2021, 1, 1, *tickers)\n",
    "\n",
    "# Merge dataframes from multiple stocks using the same column name\n",
    "tickers = [\"FB\", \"AMZN\", \"AAPL\", \"NFLX\", \"GOOG\"]\n",
    "mult_df = merge_df_by_column_name('Adj Close',  2020, 1, 1, 2021, 1, 1, *tickers)\n",
    "mult_df.tail()\n",
    "\n",
    "# Pass Investment Amount and Plot Returns using Multiple Stocks\n",
    "plot_return_mult_stocks(100, mult_df)\n",
    "\n",
    "# Pass multiple stocks with their adjusted close values to receive their\n",
    "# different means and standard deviations\n",
    "get_mult_stock_mean_sd(mult_df)\n",
    "mult_df\n",
    "\n",
    "# It is hard to compare stocks by standard deviation when their stock prices\n",
    "# are so different. The coefficient of variation is the ratio between the \n",
    "# standard deviation and the mean and it provides a comparable standard deviation\n",
    "# We get it by dividing the standard deviation by the mean cov = std / mean\n",
    "# We see here that GOOG has the least amount of variability"
   ]
  }
 ],
 "metadata": {
  "interpreter": {
   "hash": "feac5ee11db6385b4c12b0947c117f22892e921fb5655ece65f725e09c2e67f4"
  },
  "kernelspec": {
   "display_name": "Python 3.9.7 ('finance')",
   "language": "python",
   "name": "python3"
  },
  "language_info": {
   "codemirror_mode": {
    "name": "ipython",
    "version": 3
   },
   "file_extension": ".py",
   "mimetype": "text/x-python",
   "name": "python",
   "nbconvert_exporter": "python",
   "pygments_lexer": "ipython3",
   "version": "3.9.7"
  },
  "orig_nbformat": 4
 },
 "nbformat": 4,
 "nbformat_minor": 2
}
